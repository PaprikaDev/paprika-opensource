{
 "cells": [
  {
   "cell_type": "markdown",
   "id": "90858b08",
   "metadata": {},
   "source": [
    "# Setup"
   ]
  },
  {
   "cell_type": "code",
   "execution_count": 1,
   "id": "ceefa559-cf67-4cbb-970d-84661c36c1bf",
   "metadata": {},
   "outputs": [],
   "source": [
    "from dotenv import load_dotenv\n",
    "env = load_dotenv()"
   ]
  },
  {
   "cell_type": "code",
   "execution_count": 2,
   "id": "2f7bb8f8-33b5-404b-984a-77e515536ecb",
   "metadata": {},
   "outputs": [
    {
     "name": "stderr",
     "output_type": "stream",
     "text": [
      "/Users/robertwalling/Library/Python/3.9/lib/python/site-packages/urllib3/__init__.py:35: NotOpenSSLWarning: urllib3 v2 only supports OpenSSL 1.1.1+, currently the 'ssl' module is compiled with 'LibreSSL 2.8.3'. See: https://github.com/urllib3/urllib3/issues/3020\n",
      "  warnings.warn(\n"
     ]
    }
   ],
   "source": [
    "from langgraph.graph import StateGraph, END\n",
    "from langchain_core.messages import AnyMessage, SystemMessage, HumanMessage, ToolMessage\n",
    "from langchain_core.output_parsers import JsonOutputParser\n",
    "from langchain_experimental.llms.ollama_functions import OllamaFunctions\n",
    "from langchain_openai import ChatOpenAI\n",
    "from IPython.display import Image\n",
    "import IPython"
   ]
  },
  {
   "cell_type": "markdown",
   "id": "a3185a17",
   "metadata": {},
   "source": [
    "# Tools"
   ]
  },
  {
   "cell_type": "code",
   "execution_count": 3,
   "id": "c130533c-6cd0-414d-ad28-623e4ab6735b",
   "metadata": {},
   "outputs": [],
   "source": [
    "from typing import TypedDict, Annotated, Dict, Any\n",
    "import operator\n",
    "\n",
    "class AgentState(TypedDict):\n",
    "    messages: Annotated[list[AnyMessage], operator.add]"
   ]
  },
  {
   "cell_type": "code",
   "execution_count": 75,
   "id": "fc3923a2-c5d3-4384-9d74-f98813334c6d",
   "metadata": {},
   "outputs": [],
   "source": [
    "# Download PDF tool\n",
    "from langchain.tools import tool\n",
    "from langchain_community.tools.tavily_search import TavilySearchResults\n",
    "from langchain.pydantic_v1 import BaseModel, Field\n",
    "from bs4 import BeautifulSoup\n",
    "import tiktoken\n",
    "import requests\n",
    "\n",
    "# Search for relevant menu\n",
    "search_tool = TavilySearchResults()\n",
    "\n",
    "\n",
    "# Scrape menu data\n",
    "class ScrapeInput(BaseModel):\n",
    "    url: str = Field(description=\"the URL of the menu page\")\n",
    "\n",
    "@tool(\"scrape-pdf\", args_schema=ScrapeInput, return_direct=True)\n",
    "def scrape_pdf(url: str):\n",
    "    \"\"\"Scrape a webpage that may include links to a restaurants current menu and return the links\"\"\"\n",
    "    pdf_links = []\n",
    "    try:\n",
    "        response = requests.get(url)\n",
    "        soup = BeautifulSoup(response.text, 'html.parser')\n",
    "        links = soup.find_all('a')\n",
    "        pdf_links = [link.get('href') for link in links if link.get('href').endswith('.pdf')]\n",
    "    except Exception as e:\n",
    "        print(f\"failed to scrape {url} ERROR: {e}\")\n",
    "    return pdf_links\n",
    "\n",
    "\n",
    "# Encode & Upsert menu data\n",
    "enc = tiktoken.encoding_for_model(\"gpt-4o\")\n",
    "\n",
    "class tokenizerInput(BaseModel):\n",
    "    pdf_url: str = Field(description=\"The url of the PDF file that must be tokenized\")\n",
    "\n",
    "# Tokenize the pdf \n",
    "@tool(\"tokenize-pdf\", args_schema=tokenizerInput, return_direct=True)\n",
    "def tokenize_pdf():\n",
    "    pass"
   ]
  },
  {
   "cell_type": "code",
   "execution_count": 76,
   "id": "1b4ee54d-15aa-466b-85ca-eab668d1f96c",
   "metadata": {},
   "outputs": [],
   "source": [
    "tools = [search_tool, tokenize_pdf]"
   ]
  },
  {
   "cell_type": "markdown",
   "id": "15be6353-a2a7-4c56-aad4-7afc3a42efd1",
   "metadata": {},
   "source": [
    "# RAG Model"
   ]
  },
  {
   "cell_type": "code",
   "execution_count": 4,
   "id": "dc4005b8-599b-4a87-8a68-5182b5d93bb0",
   "metadata": {},
   "outputs": [],
   "source": [
    "class Model:\n",
    "    # Define the model\n",
    "    def __init__(self, model, tools, system=\"\"):\n",
    "        self.system = system\n",
    "        graph = StateGraph(AgentState)\n",
    "        graph.add_node(\"llm\", self.openai_inference)\n",
    "        graph.add_node(\"action\", self.take_action)\n",
    "        graph.add_conditional_edges(\n",
    "            \"llm\",\n",
    "            self.exists_action,\n",
    "            {True: \"action\", False: END}\n",
    "        )\n",
    "        graph.add_edge(\"action\", \"llm\")\n",
    "        graph.set_entry_point(\"llm\")\n",
    "        self.graph = graph.compile()\n",
    "        self.tools = {t.name: t for t in tools}\n",
    "        self.model = model.bind_tools(tools)\n",
    "\n",
    "    # Check if llm requires action \n",
    "    def exists_action(self, state: AgentState):\n",
    "        result = state['messages'][-1]\n",
    "        return len(result.tool_calls) > 0\n",
    "    # Run a tool ordered by the model\n",
    "    def take_action(self, state: AgentState):\n",
    "        tool_calls = state['messages'][-1].tool_calls\n",
    "        results = []\n",
    "        for t in tool_calls:\n",
    "            print(f\"Calling: {t}\")\n",
    "            result = self.tools[t['name']].invoke(t['args'])\n",
    "            results.append(ToolMessage(tool_call_id=t['id'], name=t['name'], content=str(result)))\n",
    "        print(\"Back to the model!\")\n",
    "        return {'messages': results}\n",
    "    \n",
    "    # Invokes the current message chain\n",
    "    def openai_inference(self, state: AgentState):\n",
    "        messages = state['messages']\n",
    "        if self.system:\n",
    "            messages = [SystemMessage(content=self.system)] + messages\n",
    "        message = self.model.invoke(messages)\n",
    "        return {'messages': [message]}"
   ]
  },
  {
   "cell_type": "code",
   "execution_count": 79,
   "id": "1a1fe975-3bbc-4814-b979-048899d6d5df",
   "metadata": {},
   "outputs": [],
   "source": [
    "prompt = \"\"\"You are tasked with finding and downloading a PDF of a restaurant's menu. \n",
    "Use the search tool to find the url of the menu, if you cannot find the pdf url directly use the scrape_pdf tool to scrape webpages for the url.\n",
    "DO NOT attempt to download blank menus. Save the file using the PDF download tool, name the PDF after the restaurant.\n",
    "Once you have downloaded the PDF there are no more tasks to be done. \n",
    "\"\"\"\n",
    "\n",
    "llm = ChatOpenAI(\n",
    "    model=\"gpt-4o\",\n",
    "    temperature=0,\n",
    "    max_tokens=None,\n",
    "    timeout=None,\n",
    ")\n",
    "\n",
    "model = Model(llm, tools, system=prompt)"
   ]
  },
  {
   "cell_type": "code",
   "execution_count": 84,
   "id": "443ad031-e7ff-410f-baf1-bf70c1d7cfc6",
   "metadata": {},
   "outputs": [
    {
     "name": "stdout",
     "output_type": "stream",
     "text": [
      "Calling: {'name': 'tavily_search_results_json', 'args': {'query': 'CRISP Rochester menu PDF'}, 'id': 'call_ObSUzGd8rUFO4mzKCvz5FQve', 'type': 'tool_call'}\n",
      "Calling: {'name': 'tavily_search_results_json', 'args': {'query': 'OG Dumpling House Rochester NY menu PDF'}, 'id': 'call_lLKtpD8X6PpSeiKTTxoDOYm5', 'type': 'tool_call'}\n",
      "Back to the model!\n",
      "Calling: {'name': 'download-pdf', 'args': {'url': 'https://crisprochester.com/wp-content/uploads/2023/05/Lunch-and-Dinner.pdf', 'filename': 'CRISP_Rochester'}, 'id': 'call_Dy9uSMHh3yanhb3i5re5ICMa', 'type': 'tool_call'}\n",
      "failed to download CRISP_Rochester ERROR: HTTP Error 404: Not Found\n",
      "Calling: {'name': 'download-pdf', 'args': {'url': 'https://ogdumplinghouseny.com/images/menu/menu24.6.12.pdf', 'filename': 'OG_Dumpling_House_Rochester_NY'}, 'id': 'call_b7IzX4qp3WXWiqgoC8dWmzuK', 'type': 'tool_call'}\n",
      "Back to the model!\n"
     ]
    }
   ],
   "source": [
    "messages = [\"CRISP Rochester\"]\n",
    "result = model.graph.invoke({\"messages\": messages})"
   ]
  },
  {
   "cell_type": "code",
   "execution_count": 85,
   "id": "a3c68cee-fbb1-4530-a537-2d86f3419e36",
   "metadata": {},
   "outputs": [
    {
     "data": {
      "text/plain": [
       "{'messages': ['CRISP Rochester',\n",
       "  'OG Dumpling House, Rochester NY',\n",
       "  AIMessage(content='', additional_kwargs={'tool_calls': [{'id': 'call_ObSUzGd8rUFO4mzKCvz5FQve', 'function': {'arguments': '{\"query\": \"CRISP Rochester menu PDF\"}', 'name': 'tavily_search_results_json'}, 'type': 'function'}, {'id': 'call_lLKtpD8X6PpSeiKTTxoDOYm5', 'function': {'arguments': '{\"query\": \"OG Dumpling House Rochester NY menu PDF\"}', 'name': 'tavily_search_results_json'}, 'type': 'function'}]}, response_metadata={'token_usage': {'completion_tokens': 63, 'prompt_tokens': 265, 'total_tokens': 328}, 'model_name': 'gpt-4o-2024-05-13', 'system_fingerprint': 'fp_d33f7b429e', 'finish_reason': 'tool_calls', 'logprobs': None}, id='run-c5ddb629-5a6f-48ad-bf05-413ebdabfa2f-0', tool_calls=[{'name': 'tavily_search_results_json', 'args': {'query': 'CRISP Rochester menu PDF'}, 'id': 'call_ObSUzGd8rUFO4mzKCvz5FQve', 'type': 'tool_call'}, {'name': 'tavily_search_results_json', 'args': {'query': 'OG Dumpling House Rochester NY menu PDF'}, 'id': 'call_lLKtpD8X6PpSeiKTTxoDOYm5', 'type': 'tool_call'}], usage_metadata={'input_tokens': 265, 'output_tokens': 63, 'total_tokens': 328}),\n",
       "  ToolMessage(content='[{\\'url\\': \\'https://crisprochester.com/wp-content/uploads/Lunch-and-Dinner.pdf\\', \\'content\\': \\'Crisp iceberg wedge, tomato, green onion, bacon, house buttermilk bleu, topped with crispy onions and blue cheese crumbles. Fried Chicken Cobb Salad .....$22. Chopped iceberg & romaine, tomatoes, hard boiled eggs, diced ham,\\'}, {\\'url\\': \\'https://crisprochester.com/wp-content/uploads/2023/05/Lunch-and-Dinner.pdf\\', \\'content\\': \\'CRISP. Rochester. CRISP Caesar ..... ..... ... ..... ... ..... .....$15\\'}, {\\'url\\': \\'https://crisprochester.com/wp-content/uploads/Brunch.pdf\\', \\'content\\': \\'Home fries or fruit. Gluten-free bun $1.50. Flour tortilla, chorizo, scrambled eggs, onions, green peppers, cheddar cheese, salsa verde & sour cream, home fries. Served with House Chips and Salsa.*Vegan version available. Bacon, American cheese, scrambled eggs, crisp sauce on a sesame bun. Home fries or fruit.\\'}, {\\'url\\': \\'https://www.restaurantji.com/ny/rochester/crisp-rochester-/\\', \\'content\\': \"The Playhouse // Swillburger Hamburger, Burgers, Bar. Georgie\\'s Bakery Bakery, Pet Friendly. Latest reviews, photos and 👍🏾ratings for CRISP Rochester at 819 S Clinton Ave in Rochester - view the menu, ⏰hours, ☎️phone number, ☝address and map.\"}, {\\'url\\': \\'https://restaurantguru.com/CRISP-Rochester-Rochester/menu\\', \\'content\\': \"CRISP Rochester menu; CRISP Rochester Menu. Add to wishlist. Add to compare #76 of 709 seafood restaurants in Rochester . Proceed to the restaurant\\'s website Upload menu. Menu added by users March 15, 2023 Menu added by users March 18, 2023 Menu added by users March 28, 2023.\"}]', name='tavily_search_results_json', tool_call_id='call_ObSUzGd8rUFO4mzKCvz5FQve'),\n",
       "  ToolMessage(content=\"[{'url': 'http://ogdumplinghouseny.com/', 'content': 'OG Dumpling House,410 Jefferson Rd, Rochester, NY 14623, Take Out, Dine In,ogdumplinghouseny.com. ... In-Person Pick Up; Our Menu; Gallery; In-Person Pick Up. Rochester Delivery. Welcome OG Dumpling House. Our passion is bringing you the most authentic Asian cuisine, made fresh-to-order every day. ... NY 14150 Tel: 716-259-8657 Sun.-Thur. 11am ...'}, {'url': 'https://ogdumplinghouseny.com/menu.html', 'content': 'OG Dumpling House,410 Jefferson Rd, Rochester, NY 14623, Take Out, Dine In,ogdumplinghouseny.com.'}, {'url': 'https://dumplinghouserochester.com/', 'content': 'Rochester, NY 14623 Noodle food for Pickup - Delivery Order from OG Dumpling House in Rochester, NY 14623, phone: 585-413-0353 . Skip to Navigation Skip to Main Content. Home; Order Online ... Everything has just been fantastic! I would recommend this restaurant to anyone.'}, {'url': 'https://ogdumplinghouseny.com/images/menu/menu24.6.12.pdf', 'content': 'HOUSE (7) = _ Pork, Shrimp and Chives VEGETARIAN (6) Cabbage, tofu, mushrooms (Steamed Only) BRO (Steamed Soup Dumpling) XIAO LONG BAO (5) ... SHRIMP DUMPLINGS (4) SZECHUAN WONTONS Chicken or Pork wontons in a roasted chili oil SOUP CHICKEN WONTON SOUP PORK WONTON SOUP HOT AND SOUR SOUP Pork Belly Buns'}, {'url': 'https://www.yelp.com/biz/og-dumpling-house-rochester', 'content': 'OG dumpling house is one of the best Asian restaurants I have been to! Their dumplings are hand made, whether getting a fried dumpling or a soup dumpling, you will be impressed with the quality of dough and flavor these dumplings bring. The service is always great, they always make my wife and I feel very welcomed!'}]\", name='tavily_search_results_json', tool_call_id='call_lLKtpD8X6PpSeiKTTxoDOYm5'),\n",
       "  AIMessage(content='', additional_kwargs={'tool_calls': [{'id': 'call_Dy9uSMHh3yanhb3i5re5ICMa', 'function': {'arguments': '{\"url\": \"https://crisprochester.com/wp-content/uploads/2023/05/Lunch-and-Dinner.pdf\", \"filename\": \"CRISP_Rochester\"}', 'name': 'download-pdf'}, 'type': 'function'}, {'id': 'call_b7IzX4qp3WXWiqgoC8dWmzuK', 'function': {'arguments': '{\"url\": \"https://ogdumplinghouseny.com/images/menu/menu24.6.12.pdf\", \"filename\": \"OG_Dumpling_House_Rochester_NY\"}', 'name': 'download-pdf'}, 'type': 'function'}]}, response_metadata={'token_usage': {'completion_tokens': 104, 'prompt_tokens': 1252, 'total_tokens': 1356}, 'model_name': 'gpt-4o-2024-05-13', 'system_fingerprint': 'fp_d33f7b429e', 'finish_reason': 'tool_calls', 'logprobs': None}, id='run-dcbc355c-f79e-4e57-93e6-b7cc1e9fa485-0', tool_calls=[{'name': 'download-pdf', 'args': {'url': 'https://crisprochester.com/wp-content/uploads/2023/05/Lunch-and-Dinner.pdf', 'filename': 'CRISP_Rochester'}, 'id': 'call_Dy9uSMHh3yanhb3i5re5ICMa', 'type': 'tool_call'}, {'name': 'download-pdf', 'args': {'url': 'https://ogdumplinghouseny.com/images/menu/menu24.6.12.pdf', 'filename': 'OG_Dumpling_House_Rochester_NY'}, 'id': 'call_b7IzX4qp3WXWiqgoC8dWmzuK', 'type': 'tool_call'}], usage_metadata={'input_tokens': 1252, 'output_tokens': 104, 'total_tokens': 1356}),\n",
       "  ToolMessage(content='None', name='download-pdf', tool_call_id='call_Dy9uSMHh3yanhb3i5re5ICMa'),\n",
       "  ToolMessage(content='None', name='download-pdf', tool_call_id='call_b7IzX4qp3WXWiqgoC8dWmzuK'),\n",
       "  AIMessage(content='The menus for both CRISP Rochester and OG Dumpling House in Rochester, NY have been successfully downloaded. There are no further tasks to be done.', response_metadata={'token_usage': {'completion_tokens': 31, 'prompt_tokens': 1372, 'total_tokens': 1403}, 'model_name': 'gpt-4o-2024-05-13', 'system_fingerprint': 'fp_d33f7b429e', 'finish_reason': 'stop', 'logprobs': None}, id='run-a73289dd-1856-4046-a15a-fa049f29cd7b-0', usage_metadata={'input_tokens': 1372, 'output_tokens': 31, 'total_tokens': 1403})]}"
      ]
     },
     "execution_count": 85,
     "metadata": {},
     "output_type": "execute_result"
    }
   ],
   "source": [
    "result"
   ]
  },
  {
   "cell_type": "code",
   "execution_count": 17,
   "id": "cbc51368-d3b3-4d0d-a5a4-5231db9eebe0",
   "metadata": {
    "scrolled": true
   },
   "outputs": [
    {
     "ename": "ModuleNotFoundError",
     "evalue": "No module named 'pygraphviz'",
     "output_type": "error",
     "traceback": [
      "\u001b[0;31m---------------------------------------------------------------------------\u001b[0m",
      "\u001b[0;31mModuleNotFoundError\u001b[0m                       Traceback (most recent call last)",
      "Cell \u001b[0;32mIn[17], line 1\u001b[0m\n\u001b[0;32m----> 1\u001b[0m \u001b[38;5;28;01mimport\u001b[39;00m \u001b[38;5;21;01mpygraphviz\u001b[39;00m\n\u001b[1;32m      2\u001b[0m Image(model\u001b[38;5;241m.\u001b[39mgraph\u001b[38;5;241m.\u001b[39mget_graph()\u001b[38;5;241m.\u001b[39mdraw_png())\n",
      "\u001b[0;31mModuleNotFoundError\u001b[0m: No module named 'pygraphviz'"
     ]
    }
   ],
   "source": [
    "import pygraphviz\n",
    "Image(model.graph.get_graph().draw_png())"
   ]
  },
  {
   "cell_type": "markdown",
   "id": "9e3de34b-8adc-4d68-b32b-8113f8407822",
   "metadata": {},
   "source": [
    "# Datastore"
   ]
  },
  {
   "cell_type": "code",
   "execution_count": null,
   "id": "27e61cb0-f772-4ba6-8e85-f11e894baa82",
   "metadata": {},
   "outputs": [],
   "source": [
    "# Tokenize the pdf \n",
    "import tiktoken\n",
    "enc = tiktoken.encoding_for_model(\"gpt-4o\")\n"
   ]
  },
  {
   "cell_type": "code",
   "execution_count": null,
   "id": "f5342682-ce1f-44f2-9ebe-99b43d9db9ba",
   "metadata": {},
   "outputs": [],
   "source": [
    "from pinecone import Pinecone, ServerlessSpec\n",
    "\n",
    "pc = Pinecone()\n",
    "\n",
    "pc.create_index(\n",
    "    name=\"quickstart\",\n",
    "    dimension=5120, # Lamma 2 embedding dim\n",
    "    metric=\"cosine\",\n",
    "    spec=ServerlessSpec(\n",
    "        cloud=\"aws\",\n",
    "        region=\"us-east-1\"\n",
    "    ) \n",
    ")"
   ]
  }
 ],
 "metadata": {
  "kernelspec": {
   "display_name": "RAGu",
   "language": "python",
   "name": "ragu"
  },
  "language_info": {
   "codemirror_mode": {
    "name": "ipython",
    "version": 3
   },
   "file_extension": ".py",
   "mimetype": "text/x-python",
   "name": "python",
   "nbconvert_exporter": "python",
   "pygments_lexer": "ipython3",
   "version": "3.9.6"
  }
 },
 "nbformat": 4,
 "nbformat_minor": 5
}
