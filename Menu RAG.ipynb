{
 "cells": [
  {
   "cell_type": "code",
   "execution_count": 2,
   "id": "ceefa559-cf67-4cbb-970d-84661c36c1bf",
   "metadata": {},
   "outputs": [],
   "source": [
    "from dotenv import load_dotenv\n",
    "env = load_dotenv()"
   ]
  },
  {
   "cell_type": "code",
   "execution_count": 3,
   "id": "2f7bb8f8-33b5-404b-984a-77e515536ecb",
   "metadata": {},
   "outputs": [
    {
     "name": "stderr",
     "output_type": "stream",
     "text": [
      "/Users/robertwalling/Library/Python/3.9/lib/python/site-packages/urllib3/__init__.py:35: NotOpenSSLWarning: urllib3 v2 only supports OpenSSL 1.1.1+, currently the 'ssl' module is compiled with 'LibreSSL 2.8.3'. See: https://github.com/urllib3/urllib3/issues/3020\n",
      "  warnings.warn(\n"
     ]
    }
   ],
   "source": [
    "from langgraph.graph import StateGraph, END\n",
    "from langchain_core.messages import AnyMessage, SystemMessage, HumanMessage, ToolMessage\n",
    "from langchain_core.output_parsers import JsonOutputParser\n",
    "from langchain_experimental.llms.ollama_functions import OllamaFunctions\n",
    "from langchain_openai import ChatOpenAI\n",
    "from IPython.display import Image\n",
    "import IPython"
   ]
  },
  {
   "cell_type": "code",
   "execution_count": 3,
   "id": "f11987ab-fcc4-4ae2-bbc3-270ad113b849",
   "metadata": {},
   "outputs": [],
   "source": [
    "# RAG "
   ]
  },
  {
   "cell_type": "code",
   "execution_count": 4,
   "id": "c130533c-6cd0-414d-ad28-623e4ab6735b",
   "metadata": {},
   "outputs": [],
   "source": [
    "from typing import TypedDict, Annotated, Dict, Any\n",
    "import operator\n",
    "\n",
    "class AgentState(TypedDict):\n",
    "    messages: Annotated[list[AnyMessage], operator.add]\n",
    "    # output: str"
   ]
  },
  {
   "cell_type": "code",
   "execution_count": 12,
   "id": "fc3923a2-c5d3-4384-9d74-f98813334c6d",
   "metadata": {},
   "outputs": [],
   "source": [
    "# Download PDF tool\n",
    "from langchain.tools import tool\n",
    "from langchain_community.tools.tavily_search import TavilySearchResults\n",
    "from langchain.pydantic_v1 import BaseModel, Field\n",
    "from urllib.request import urlopen\n",
    "\n",
    "search_tool = TavilySearchResults()\n",
    "\n",
    "class DowloadInput(BaseModel):\n",
    "    download_url: str = Field(description=\"the URL of the menu\")\n",
    "    filename: str = Field(description=\"the name of the restaurants\")\n",
    "\n",
    "@tool(\"download-pdf\", args_schema=DowloadInput, return_direct=True)\n",
    "def download_pdf(download_url: str, filename: str):\n",
    "    \"\"\"Download a pdf file from a given url and filename\"\"\"\n",
    "    try:\n",
    "        response = urlopen(download_url)\n",
    "        file = open(\"pdf/\"+filename+\".pdf\", 'wb')\n",
    "        file.write(response.read())\n",
    "        file.close()\n",
    "    except:\n",
    "        print(f\"failed to download {filename}\")"
   ]
  },
  {
   "cell_type": "code",
   "execution_count": 13,
   "id": "1b4ee54d-15aa-466b-85ca-eab668d1f96c",
   "metadata": {},
   "outputs": [],
   "source": [
    "tools = [search_tool, download_pdf]"
   ]
  },
  {
   "cell_type": "code",
   "execution_count": 14,
   "id": "dc4005b8-599b-4a87-8a68-5182b5d93bb0",
   "metadata": {},
   "outputs": [],
   "source": [
    "class Model:\n",
    "    # Define the model\n",
    "    def __init__(self, model, tools, system=\"\"):\n",
    "        self.system = system\n",
    "        graph = StateGraph(AgentState)\n",
    "        graph.add_node(\"llm\", self.classify)\n",
    "        graph.add_node(\"action\", self.take_action)\n",
    "        #graph.add_node(\"output-parser\", self.classify)\n",
    "        graph.add_conditional_edges(\n",
    "            \"llm\",\n",
    "            self.exists_action,\n",
    "            {True: \"action\", False: END}\n",
    "        )\n",
    "        graph.add_edge(\"action\", \"llm\")\n",
    "        graph.set_entry_point(\"llm\")\n",
    "        self.graph = graph.compile()\n",
    "        self.tools = {t.name: t for t in tools}\n",
    "        self.model = model.bind_tools(tools)\n",
    "\n",
    "    # Check if llm requires action \n",
    "    def exists_action(self, state: AgentState):\n",
    "        result = state['messages'][-1]\n",
    "        return len(result.tool_calls) > 0\n",
    "    # Run a tool ordered by the model\n",
    "    def take_action(self, state: AgentState):\n",
    "        tool_calls = state['messages'][-1].tool_calls\n",
    "        results = []\n",
    "        for t in tool_calls:\n",
    "            print(f\"Calling: {t}\")\n",
    "            result = self.tools[t['name']].invoke(t['args'])\n",
    "            results.append(ToolMessage(tool_call_id=t['id'], name=t['name'], content=str(result)))\n",
    "        print(\"Back to the model!\")\n",
    "        return {'messages': results}\n",
    "    # Perform inference on the gathered context\n",
    "    def classify(self, state: AgentState):\n",
    "        messages = state['messages']\n",
    "        if self.system:\n",
    "            messages = [SystemMessage(content=self.system)] + messages\n",
    "        message = self.model.invoke(messages)\n",
    "        return {'messages': [message]}\n",
    "\n",
    "    # def parse_output_to_string(self, state: AgentState):\n",
    "    #     message = state['messages'][-1]\n",
    "    #     json_output = JsonOutputParser(pydantic_object=Restaurants).invoke(message)\n",
    "    #     return {'json_output': json_output}"
   ]
  },
  {
   "cell_type": "code",
   "execution_count": 24,
   "id": "1a1fe975-3bbc-4814-b979-048899d6d5df",
   "metadata": {},
   "outputs": [],
   "source": [
    "prompt = \"\"\"You are tasked with finding and downloading a PDF of a restaurant's menu. \n",
    "Use the search tool to find the url of the menu, only look for links that end in .pdf. \n",
    "You MUST use an active URL, DO NOT attempt to download b. \n",
    "Save the file using the PDF download tool, name the PDF after the restaurant.\n",
    "Once you have downloaded the PDF there are no more tasks to be done. \n",
    "\"\"\"\n",
    "\n",
    "llm = ChatOpenAI(\n",
    "    model=\"gpt-4o\",\n",
    "    temperature=0,\n",
    "    max_tokens=None,\n",
    "    timeout=None,\n",
    ")\n",
    "\n",
    "model = Model(llm, tools, system=prompt)"
   ]
  },
  {
   "cell_type": "code",
   "execution_count": 32,
   "id": "443ad031-e7ff-410f-baf1-bf70c1d7cfc6",
   "metadata": {},
   "outputs": [
    {
     "name": "stdout",
     "output_type": "stream",
     "text": [
      "Calling: {'name': 'tavily_search_results_json', 'args': {'query': 'Old Stone Tavern Rochester NY menu filetype:pdf'}, 'id': 'call_wErRE18AIWVgwWjfFsezx42c', 'type': 'tool_call'}\n",
      "Back to the model!\n",
      "Calling: {'name': 'download-pdf', 'args': {'download_url': 'http://oldstonehaustavern.com/wp-content/uploads/2018/11/2018-2019Menu.pdf', 'filename': 'Old Stone Tavern'}, 'id': 'call_oClPeKKHYgPy777Kx1KL0h0u', 'type': 'tool_call'}\n",
      "Back to the model!\n"
     ]
    }
   ],
   "source": [
    "messages = [\"Old Stone Tavern, Rochester NY\"]\n",
    "result = model.graph.invoke({\"messages\": messages})"
   ]
  },
  {
   "cell_type": "code",
   "execution_count": 33,
   "id": "a3c68cee-fbb1-4530-a537-2d86f3419e36",
   "metadata": {},
   "outputs": [
    {
     "data": {
      "text/plain": [
       "{'messages': ['Old Stone Tavern, Rochester NY',\n",
       "  AIMessage(content='', additional_kwargs={'tool_calls': [{'id': 'call_wErRE18AIWVgwWjfFsezx42c', 'function': {'arguments': '{\"query\":\"Old Stone Tavern Rochester NY menu filetype:pdf\"}', 'name': 'tavily_search_results_json'}, 'type': 'function'}]}, response_metadata={'token_usage': {'completion_tokens': 27, 'prompt_tokens': 222, 'total_tokens': 249}, 'model_name': 'gpt-4o-2024-05-13', 'system_fingerprint': 'fp_298125635f', 'finish_reason': 'tool_calls', 'logprobs': None}, id='run-2b7f4c8f-2025-413a-90fc-bf421bd1856b-0', tool_calls=[{'name': 'tavily_search_results_json', 'args': {'query': 'Old Stone Tavern Rochester NY menu filetype:pdf'}, 'id': 'call_wErRE18AIWVgwWjfFsezx42c', 'type': 'tool_call'}], usage_metadata={'input_tokens': 222, 'output_tokens': 27, 'total_tokens': 249}),\n",
       "  ToolMessage(content='[{\\'url\\': \\'https://static1.squarespace.com/static/5699538f9cadb68b382bcb64/t/63b878453e13ec5892a4d4a4/1673033799754/rev+menu+1.6.pdf\\', \\'content\\': \\'1290 UNIVERSITY AVENUE | ROCHESTER, NY | 585.340.6454 1290 UNIVERSITY AVENUE | ROCHESTER, NY | 585.340.6454 www.therevelryroc.com COCKTAILS BEER\\'}, {\\'url\\': \\'https://static1.squarespace.com/static/5aa0989c36099be8e6ec8f12/t/619814ba29d0b6000e2cc50a/1637356730449/cocktails_menu.pdf\\', \\'content\\': \"Black Velvet Crown Royal Jack Daniels Black Jack Daniels Apple Jack Daniels Fire Jack Daniels Honey Jameson Seagrams 7 Skrewball. S. Tier Cinnamon Apple. S. Tier Pumking. Bacardi Bacardi Limon Bacardi Raspberry Bounty Spiced Captain Morgan Coconut Gosling\\'s Dark Rhum Clement Select Southern Tier Tanqueray.\"}, {\\'url\\': \\'https://assets.website-files.com/62f539c546548427ec20cfba/65a1d5775b20a7117233ef6f_los-holiday-buffet-menus-2024-MotherDay.pdf\\', \\'content\\': \\'ham, bacon, brisket, chicken sausage, tomato, mushroom, onion, bell peppers, spinach, pickled jalapenos, cheddar, swiss, pepper jack, roasted tomato salsa\\'}, {\\'url\\': \\'https://www.belhurst.com/wp-content/uploads/2020/05/Stonecutters-Menu-2020.pdf\\', \\'content\\': \\'Chilled shrimp, celery, bell pepper and onion in a lemon aioli served on a toasted Artisan roll 13.95. Paired perfectly with our Belhurst Pinot Grigio. castle burger. Hand pressed ground 8-ounce steak burger, New York State cheddar, green leaf lettuce, sliced tomato, red onion and mayo served on a Kaiser roll 13.95 Add.\\'}, {\\'url\\': \\'http://oldstonehaustavern.com/wp-content/uploads/2018/11/2018-2019Menu.pdf\\', \\'content\\': \\'The Old Stone Haus Tavern is a longtime Broadway landmark. It was built in 1896 by William S. Fogle as a hardware/general store. It has also served as a restaurant/bar over the years. We invite you to stop by and enjoy the atomosphere.\\'}]', name='tavily_search_results_json', tool_call_id='call_wErRE18AIWVgwWjfFsezx42c'),\n",
       "  AIMessage(content='', additional_kwargs={'tool_calls': [{'id': 'call_oClPeKKHYgPy777Kx1KL0h0u', 'function': {'arguments': '{\"download_url\":\"http://oldstonehaustavern.com/wp-content/uploads/2018/11/2018-2019Menu.pdf\",\"filename\":\"Old Stone Tavern\"}', 'name': 'download-pdf'}, 'type': 'function'}]}, response_metadata={'token_usage': {'completion_tokens': 45, 'prompt_tokens': 809, 'total_tokens': 854}, 'model_name': 'gpt-4o-2024-05-13', 'system_fingerprint': 'fp_d33f7b429e', 'finish_reason': 'tool_calls', 'logprobs': None}, id='run-335ceb91-c239-412c-ab87-bc6a2d79873a-0', tool_calls=[{'name': 'download-pdf', 'args': {'download_url': 'http://oldstonehaustavern.com/wp-content/uploads/2018/11/2018-2019Menu.pdf', 'filename': 'Old Stone Tavern'}, 'id': 'call_oClPeKKHYgPy777Kx1KL0h0u', 'type': 'tool_call'}], usage_metadata={'input_tokens': 809, 'output_tokens': 45, 'total_tokens': 854}),\n",
       "  ToolMessage(content='None', name='download-pdf', tool_call_id='call_oClPeKKHYgPy777Kx1KL0h0u'),\n",
       "  AIMessage(content='The menu for Old Stone Tavern has been successfully downloaded. There are no further tasks to be done.', response_metadata={'token_usage': {'completion_tokens': 21, 'prompt_tokens': 864, 'total_tokens': 885}, 'model_name': 'gpt-4o-2024-05-13', 'system_fingerprint': 'fp_298125635f', 'finish_reason': 'stop', 'logprobs': None}, id='run-e9712440-91cd-45ec-8fee-b43b4608dcfe-0', usage_metadata={'input_tokens': 864, 'output_tokens': 21, 'total_tokens': 885})]}"
      ]
     },
     "execution_count": 33,
     "metadata": {},
     "output_type": "execute_result"
    }
   ],
   "source": [
    "result"
   ]
  },
  {
   "cell_type": "code",
   "execution_count": 17,
   "id": "cbc51368-d3b3-4d0d-a5a4-5231db9eebe0",
   "metadata": {
    "scrolled": true
   },
   "outputs": [
    {
     "ename": "ModuleNotFoundError",
     "evalue": "No module named 'pygraphviz'",
     "output_type": "error",
     "traceback": [
      "\u001b[0;31m---------------------------------------------------------------------------\u001b[0m",
      "\u001b[0;31mModuleNotFoundError\u001b[0m                       Traceback (most recent call last)",
      "Cell \u001b[0;32mIn[17], line 1\u001b[0m\n\u001b[0;32m----> 1\u001b[0m \u001b[38;5;28;01mimport\u001b[39;00m \u001b[38;5;21;01mpygraphviz\u001b[39;00m\n\u001b[1;32m      2\u001b[0m Image(model\u001b[38;5;241m.\u001b[39mgraph\u001b[38;5;241m.\u001b[39mget_graph()\u001b[38;5;241m.\u001b[39mdraw_png())\n",
      "\u001b[0;31mModuleNotFoundError\u001b[0m: No module named 'pygraphviz'"
     ]
    }
   ],
   "source": [
    "import pygraphviz\n",
    "Image(model.graph.get_graph().draw_png())"
   ]
  },
  {
   "cell_type": "code",
   "execution_count": null,
   "id": "9e3de34b-8adc-4d68-b32b-8113f8407822",
   "metadata": {},
   "outputs": [],
   "source": [
    "# Datastore"
   ]
  },
  {
   "cell_type": "code",
   "execution_count": null,
   "id": "f5342682-ce1f-44f2-9ebe-99b43d9db9ba",
   "metadata": {},
   "outputs": [],
   "source": [
    "from pinecone import Pinecone, ServerlessSpec\n",
    "\n",
    "pc = Pinecone()\n",
    "\n",
    "pc.create_index(\n",
    "    name=\"quickstart\",\n",
    "    dimension=5120, # Lamma 2 embedding dim\n",
    "    metric=\"cosine\",\n",
    "    spec=ServerlessSpec(\n",
    "        cloud=\"aws\",\n",
    "        region=\"us-east-1\"\n",
    "    ) \n",
    ")"
   ]
  }
 ],
 "metadata": {
  "kernelspec": {
   "display_name": "RAGu",
   "language": "python",
   "name": "ragu"
  },
  "language_info": {
   "codemirror_mode": {
    "name": "ipython",
    "version": 3
   },
   "file_extension": ".py",
   "mimetype": "text/x-python",
   "name": "python",
   "nbconvert_exporter": "python",
   "pygments_lexer": "ipython3",
   "version": "3.9.6"
  }
 },
 "nbformat": 4,
 "nbformat_minor": 5
}
