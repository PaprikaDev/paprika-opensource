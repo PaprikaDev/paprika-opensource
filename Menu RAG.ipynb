{
 "cells": [
  {
   "cell_type": "code",
   "execution_count": 2,
   "id": "ceefa559-cf67-4cbb-970d-84661c36c1bf",
   "metadata": {},
   "outputs": [],
   "source": [
    "from dotenv import load_dotenv\n",
    "env = load_dotenv()"
   ]
  },
  {
   "cell_type": "code",
   "execution_count": 38,
   "id": "2f7bb8f8-33b5-404b-984a-77e515536ecb",
   "metadata": {},
   "outputs": [],
   "source": [
    "from langgraph.graph import StateGraph, END\n",
    "from langchain_core.messages import AnyMessage, SystemMessage, HumanMessage, ToolMessage\n",
    "from langchain_core.output_parsers import JsonOutputParser\n",
    "from langchain_experimental.llms.ollama_functions import OllamaFunctions\n",
    "from langchain_openai import ChatOpenAI\n",
    "from IPython.display import Image\n",
    "import IPython"
   ]
  },
  {
   "cell_type": "code",
   "execution_count": 37,
   "id": "f11987ab-fcc4-4ae2-bbc3-270ad113b849",
   "metadata": {},
   "outputs": [],
   "source": [
    "# Tools "
   ]
  },
  {
   "cell_type": "code",
   "execution_count": 4,
   "id": "c130533c-6cd0-414d-ad28-623e4ab6735b",
   "metadata": {},
   "outputs": [],
   "source": [
    "from typing import TypedDict, Annotated, Dict, Any\n",
    "import operator\n",
    "\n",
    "class AgentState(TypedDict):\n",
    "    messages: Annotated[list[AnyMessage], operator.add]\n",
    "    # output: str"
   ]
  },
  {
   "cell_type": "code",
   "execution_count": 12,
   "id": "fc3923a2-c5d3-4384-9d74-f98813334c6d",
   "metadata": {},
   "outputs": [],
   "source": [
    "# Download PDF tool\n",
    "from langchain.tools import tool\n",
    "from langchain_community.tools.tavily_search import TavilySearchResults\n",
    "from langchain.pydantic_v1 import BaseModel, Field\n",
    "from urllib.request import urlopen\n",
    "\n",
    "search_tool = TavilySearchResults()\n",
    "\n",
    "class DowloadInput(BaseModel):\n",
    "    download_url: str = Field(description=\"the URL of the menu\")\n",
    "    filename: str = Field(description=\"the name of the restaurants\")\n",
    "\n",
    "@tool(\"download-pdf\", args_schema=DowloadInput, return_direct=True)\n",
    "def download_pdf(download_url: str, filename: str):\n",
    "    \"\"\"Download a pdf file from a given url and filename\"\"\"\n",
    "    try:\n",
    "        response = urlopen(download_url)\n",
    "        file = open(\"pdf/\"+filename+\".pdf\", 'wb')\n",
    "        file.write(response.read())\n",
    "        file.close()\n",
    "    except:\n",
    "        print(f\"failed to download {filename}\")"
   ]
  },
  {
   "cell_type": "code",
   "execution_count": 13,
   "id": "1b4ee54d-15aa-466b-85ca-eab668d1f96c",
   "metadata": {},
   "outputs": [],
   "source": [
    "tools = [search_tool, download_pdf]"
   ]
  },
  {
   "cell_type": "code",
   "execution_count": null,
   "id": "15be6353-a2a7-4c56-aad4-7afc3a42efd1",
   "metadata": {},
   "outputs": [],
   "source": [
    "# RAG Model"
   ]
  },
  {
   "cell_type": "code",
   "execution_count": 14,
   "id": "dc4005b8-599b-4a87-8a68-5182b5d93bb0",
   "metadata": {},
   "outputs": [],
   "source": [
    "class Model:\n",
    "    # Define the model\n",
    "    def __init__(self, model, tools, system=\"\"):\n",
    "        self.system = system\n",
    "        graph = StateGraph(AgentState)\n",
    "        graph.add_node(\"llm\", self.classify)\n",
    "        graph.add_node(\"action\", self.take_action)\n",
    "        #graph.add_node(\"output-parser\", self.classify)\n",
    "        graph.add_conditional_edges(\n",
    "            \"llm\",\n",
    "            self.exists_action,\n",
    "            {True: \"action\", False: END}\n",
    "        )\n",
    "        graph.add_edge(\"action\", \"llm\")\n",
    "        graph.set_entry_point(\"llm\")\n",
    "        self.graph = graph.compile()\n",
    "        self.tools = {t.name: t for t in tools}\n",
    "        self.model = model.bind_tools(tools)\n",
    "\n",
    "    # Check if llm requires action \n",
    "    def exists_action(self, state: AgentState):\n",
    "        result = state['messages'][-1]\n",
    "        return len(result.tool_calls) > 0\n",
    "    # Run a tool ordered by the model\n",
    "    def take_action(self, state: AgentState):\n",
    "        tool_calls = state['messages'][-1].tool_calls\n",
    "        results = []\n",
    "        for t in tool_calls:\n",
    "            print(f\"Calling: {t}\")\n",
    "            result = self.tools[t['name']].invoke(t['args'])\n",
    "            results.append(ToolMessage(tool_call_id=t['id'], name=t['name'], content=str(result)))\n",
    "        print(\"Back to the model!\")\n",
    "        return {'messages': results}\n",
    "    # Perform inference on the gathered context\n",
    "    def classify(self, state: AgentState):\n",
    "        messages = state['messages']\n",
    "        if self.system:\n",
    "            messages = [SystemMessage(content=self.system)] + messages\n",
    "        message = self.model.invoke(messages)\n",
    "        return {'messages': [message]}\n",
    "\n",
    "    # def parse_output_to_string(self, state: AgentState):\n",
    "    #     message = state['messages'][-1]\n",
    "    #     json_output = JsonOutputParser(pydantic_object=Restaurants).invoke(message)\n",
    "    #     return {'json_output': json_output}"
   ]
  },
  {
   "cell_type": "code",
   "execution_count": 34,
   "id": "1a1fe975-3bbc-4814-b979-048899d6d5df",
   "metadata": {},
   "outputs": [],
   "source": [
    "prompt = \"\"\"You are tasked with finding and downloading a PDF of a restaurant's menu. \n",
    "Use the search tool to find the url of the menu, only look for links that end in .pdf. \n",
    "You MUST use an active URL, DO NOT attempt to download blank menus. \n",
    "Save the file using the PDF download tool, name the PDF after the restaurant.\n",
    "Once you have downloaded the PDF there are no more tasks to be done. \n",
    "\"\"\"\n",
    "\n",
    "llm = ChatOpenAI(\n",
    "    model=\"gpt-4o\",\n",
    "    temperature=0,\n",
    "    max_tokens=None,\n",
    "    timeout=None,\n",
    ")\n",
    "\n",
    "model = Model(llm, tools, system=prompt)"
   ]
  },
  {
   "cell_type": "code",
   "execution_count": 40,
   "id": "443ad031-e7ff-410f-baf1-bf70c1d7cfc6",
   "metadata": {},
   "outputs": [
    {
     "name": "stdout",
     "output_type": "stream",
     "text": [
      "Calling: {'name': 'tavily_search_results_json', 'args': {'query': 'Mondo restaurant menu PDF Middletown Connecticut'}, 'id': 'call_nsE08MvqhVNQMFTrCC1qwekB', 'type': 'tool_call'}\n",
      "Back to the model!\n",
      "Calling: {'name': 'download-pdf', 'args': {'download_url': 'https://www.mondomiddletown.com/menu', 'filename': 'Mondo'}, 'id': 'call_DJ88fagAspmRRxwwIutFTbr2', 'type': 'tool_call'}\n",
      "Back to the model!\n",
      "Calling: {'name': 'tavily_search_results_json', 'args': {'query': 'Mondo Middletown CT menu filetype:pdf'}, 'id': 'call_mo8xls2jqV2Q4Xnmm9Wo9e3o', 'type': 'tool_call'}\n",
      "Back to the model!\n",
      "Calling: {'name': 'tavily_search_results_json', 'args': {'query': 'Mondo Middletown CT restaurant menu PDF'}, 'id': 'call_Xe3JBmf6oAC5tbtPvSSKK8GF', 'type': 'tool_call'}\n",
      "Back to the model!\n"
     ]
    }
   ],
   "source": [
    "messages = [\"Mondo, Middletown Connecticut\"]\n",
    "result = model.graph.invoke({\"messages\": messages})"
   ]
  },
  {
   "cell_type": "code",
   "execution_count": 36,
   "id": "a3c68cee-fbb1-4530-a537-2d86f3419e36",
   "metadata": {},
   "outputs": [
    {
     "data": {
      "text/plain": [
       "{'messages': ['NOSH, Rochester NY',\n",
       "  AIMessage(content='', additional_kwargs={'tool_calls': [{'id': 'call_3tLi1bj9XxUKAcVwcw6Ot35s', 'function': {'arguments': '{\"query\":\"NOSH Rochester NY menu filetype:pdf\"}', 'name': 'tavily_search_results_json'}, 'type': 'function'}]}, response_metadata={'token_usage': {'completion_tokens': 26, 'prompt_tokens': 215, 'total_tokens': 241}, 'model_name': 'gpt-4o-2024-05-13', 'system_fingerprint': 'fp_298125635f', 'finish_reason': 'tool_calls', 'logprobs': None}, id='run-c9801131-b65b-4917-b859-04989eb02d8f-0', tool_calls=[{'name': 'tavily_search_results_json', 'args': {'query': 'NOSH Rochester NY menu filetype:pdf'}, 'id': 'call_3tLi1bj9XxUKAcVwcw6Ot35s', 'type': 'tool_call'}], usage_metadata={'input_tokens': 215, 'output_tokens': 26, 'total_tokens': 241}),\n",
       "  ToolMessage(content='[{\\'url\\': \\'https://static1.squarespace.com/static/645d5ca2cd5f46150b87f2ac/t/66560da4e4c6314598956ca1/1716915622501/NoshDinnerMenu_May2024.pdf\\', \\'content\\': \\'DINNER NOSH PRINT MENU May 14 2024. nosh 47 RUSSELL STREET, ROCHESTER, NEW YORK RJ WOOD, EXECUTIVE CHEF / VICKY CAREY, PROPRIETOR PICKINGS THAI CHILI WINGS smoked with thai chili BBQ, with quick pickles + sesame ranch HOT BUNS spicy bulgogi pork belly, pineapple kimchi, asian quick pickles, cilantro CRABBY masa crusted crab cake, charred corn ...\\'}, {\\'url\\': \\'https://crisprochester.com/wp-content/uploads/Lunch-and-Dinner.pdf\\', \\'content\\': \\'CRISP. Rochester. Vegan Meatloaf .....$28. Carrot puree and haricots verts.\\'}, {\\'url\\': \\'https://assets-global.website-files.com/63fbef11c1ef8e7de465822c/65fcfb7d99a036b3da96ad23_3:21.2.pdf\\', \\'content\\': \\'choose a menu: basic ($27) or premium ($36.95) stdp order 3-4 proteins for the entire table with your server. stdp order sides with your server. stdp cook, eat, enjoy, and repeat step 2 & 3. the whole table has to order the same menu ¯ _`pp`oq m`o m`oplk° spdbi@lity shots. sd@son@l bobkt@ils ô bobkt@ils ô bl@ssib bobkt@ils. gin and tonic | 8.95\\'}, {\\'url\\': \\'https://blog.timesunion.com/tablehopping/files/2013/08/Nosh-Brunch-Menu.pdf\\', \\'content\\': \\'Nosh NY Delicatessen Weekend Brunch Menu Served from 9am - 2pm Saturday and Sunday Challah French Toast $7.95 Thick cut challah dipped in our own cinnamon egg batter, grilled golden brown\\'}, {\\'url\\': \"https://static1.squarespace.com/static/5c2575fff2e6b10e47e5471f/t/65afd0929e7a5130a9a8a4b6/1706021012156/vern\\'s+winter+24.pdf\", \\'content\\': \\'pizza mushroom roasted garlic cream, mushroom, mozzarella, chili, lemon, parsley, fried sunchoke phoenix olive oil, mozzarella, smoked mozz, pistachio,\\'}]', name='tavily_search_results_json', tool_call_id='call_3tLi1bj9XxUKAcVwcw6Ot35s'),\n",
       "  AIMessage(content='', additional_kwargs={'tool_calls': [{'id': 'call_et30yb2jouYoAjutaWIy2PBj', 'function': {'arguments': '{\"download_url\":\"https://static1.squarespace.com/static/645d5ca2cd5f46150b87f2ac/t/66560da4e4c6314598956ca1/1716915622501/NoshDinnerMenu_May2024.pdf\",\"filename\":\"NOSH\"}', 'name': 'download-pdf'}, 'type': 'function'}]}, response_metadata={'token_usage': {'completion_tokens': 75, 'prompt_tokens': 822, 'total_tokens': 897}, 'model_name': 'gpt-4o-2024-05-13', 'system_fingerprint': 'fp_d33f7b429e', 'finish_reason': 'tool_calls', 'logprobs': None}, id='run-5cd2d1d0-343a-4556-94ef-8cd501545a4e-0', tool_calls=[{'name': 'download-pdf', 'args': {'download_url': 'https://static1.squarespace.com/static/645d5ca2cd5f46150b87f2ac/t/66560da4e4c6314598956ca1/1716915622501/NoshDinnerMenu_May2024.pdf', 'filename': 'NOSH'}, 'id': 'call_et30yb2jouYoAjutaWIy2PBj', 'type': 'tool_call'}], usage_metadata={'input_tokens': 822, 'output_tokens': 75, 'total_tokens': 897}),\n",
       "  ToolMessage(content='None', name='download-pdf', tool_call_id='call_et30yb2jouYoAjutaWIy2PBj'),\n",
       "  AIMessage(content='The menu for NOSH in Rochester, NY has been successfully downloaded. If you need any further assistance, feel free to ask!', response_metadata={'token_usage': {'completion_tokens': 27, 'prompt_tokens': 907, 'total_tokens': 934}, 'model_name': 'gpt-4o-2024-05-13', 'system_fingerprint': 'fp_298125635f', 'finish_reason': 'stop', 'logprobs': None}, id='run-8b8dd8e9-0188-4bf9-a6c9-1738517b1566-0', usage_metadata={'input_tokens': 907, 'output_tokens': 27, 'total_tokens': 934})]}"
      ]
     },
     "execution_count": 36,
     "metadata": {},
     "output_type": "execute_result"
    }
   ],
   "source": [
    "result"
   ]
  },
  {
   "cell_type": "code",
   "execution_count": 17,
   "id": "cbc51368-d3b3-4d0d-a5a4-5231db9eebe0",
   "metadata": {
    "scrolled": true
   },
   "outputs": [
    {
     "ename": "ModuleNotFoundError",
     "evalue": "No module named 'pygraphviz'",
     "output_type": "error",
     "traceback": [
      "\u001b[0;31m---------------------------------------------------------------------------\u001b[0m",
      "\u001b[0;31mModuleNotFoundError\u001b[0m                       Traceback (most recent call last)",
      "Cell \u001b[0;32mIn[17], line 1\u001b[0m\n\u001b[0;32m----> 1\u001b[0m \u001b[38;5;28;01mimport\u001b[39;00m \u001b[38;5;21;01mpygraphviz\u001b[39;00m\n\u001b[1;32m      2\u001b[0m Image(model\u001b[38;5;241m.\u001b[39mgraph\u001b[38;5;241m.\u001b[39mget_graph()\u001b[38;5;241m.\u001b[39mdraw_png())\n",
      "\u001b[0;31mModuleNotFoundError\u001b[0m: No module named 'pygraphviz'"
     ]
    }
   ],
   "source": [
    "import pygraphviz\n",
    "Image(model.graph.get_graph().draw_png())"
   ]
  },
  {
   "cell_type": "code",
   "execution_count": null,
   "id": "9e3de34b-8adc-4d68-b32b-8113f8407822",
   "metadata": {},
   "outputs": [],
   "source": [
    "# Datastore"
   ]
  },
  {
   "cell_type": "code",
   "execution_count": null,
   "id": "27e61cb0-f772-4ba6-8e85-f11e894baa82",
   "metadata": {},
   "outputs": [],
   "source": [
    "# Tokenize the pdf \n",
    "import tiktoken\n",
    "enc = tiktoken.encoding_for_model(\"gpt-4o\")\n",
    "\n",
    "\n"
   ]
  },
  {
   "cell_type": "code",
   "execution_count": null,
   "id": "f5342682-ce1f-44f2-9ebe-99b43d9db9ba",
   "metadata": {},
   "outputs": [],
   "source": [
    "from pinecone import Pinecone, ServerlessSpec\n",
    "\n",
    "pc = Pinecone()\n",
    "\n",
    "pc.create_index(\n",
    "    name=\"quickstart\",\n",
    "    dimension=5120, # Lamma 2 embedding dim\n",
    "    metric=\"cosine\",\n",
    "    spec=ServerlessSpec(\n",
    "        cloud=\"aws\",\n",
    "        region=\"us-east-1\"\n",
    "    ) \n",
    ")"
   ]
  }
 ],
 "metadata": {
  "kernelspec": {
   "display_name": "RAGu",
   "language": "python",
   "name": "ragu"
  },
  "language_info": {
   "codemirror_mode": {
    "name": "ipython",
    "version": 3
   },
   "file_extension": ".py",
   "mimetype": "text/x-python",
   "name": "python",
   "nbconvert_exporter": "python",
   "pygments_lexer": "ipython3",
   "version": "3.9.6"
  }
 },
 "nbformat": 4,
 "nbformat_minor": 5
}
