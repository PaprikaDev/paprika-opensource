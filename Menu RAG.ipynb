{
 "cells": [
  {
   "cell_type": "code",
   "execution_count": 2,
   "id": "ceefa559-cf67-4cbb-970d-84661c36c1bf",
   "metadata": {},
   "outputs": [],
   "source": [
    "from dotenv import load_dotenv\n",
    "env = load_dotenv()"
   ]
  },
  {
   "cell_type": "code",
   "execution_count": 38,
   "id": "2f7bb8f8-33b5-404b-984a-77e515536ecb",
   "metadata": {},
   "outputs": [],
   "source": [
    "from langgraph.graph import StateGraph, END\n",
    "from langchain_core.messages import AnyMessage, SystemMessage, HumanMessage, ToolMessage\n",
    "from langchain_core.output_parsers import JsonOutputParser\n",
    "from langchain_experimental.llms.ollama_functions import OllamaFunctions\n",
    "from langchain_openai import ChatOpenAI\n",
    "from IPython.display import Image\n",
    "import IPython"
   ]
  },
  {
   "cell_type": "code",
   "execution_count": 37,
   "id": "f11987ab-fcc4-4ae2-bbc3-270ad113b849",
   "metadata": {},
   "outputs": [],
   "source": [
    "# Tools "
   ]
  },
  {
   "cell_type": "code",
   "execution_count": 41,
   "id": "c130533c-6cd0-414d-ad28-623e4ab6735b",
   "metadata": {},
   "outputs": [],
   "source": [
    "from typing import TypedDict, Annotated, Dict, Any\n",
    "import operator\n",
    "\n",
    "class AgentState(TypedDict):\n",
    "    messages: Annotated[list[AnyMessage], operator.add]\n",
    "    # output: str"
   ]
  },
  {
   "cell_type": "code",
   "execution_count": 56,
   "id": "fc3923a2-c5d3-4384-9d74-f98813334c6d",
   "metadata": {},
   "outputs": [],
   "source": [
    "# Download PDF tool\n",
    "from langchain.tools import tool\n",
    "from langchain_community.tools.tavily_search import TavilySearchResults\n",
    "from langchain.pydantic_v1 import BaseModel, Field\n",
    "import requests\n",
    "from bs4 import BeautifulSoup\n",
    "from urllib.request import urlopen\n",
    "\n",
    "search_tool = TavilySearchResults()\n",
    "\n",
    "class ScrapeInput(BaseModel):\n",
    "    url: str = Field(description=\"the URL of the menu page\")\n",
    "\n",
    "@tool(\"scrape-pdf\", args_schema=ScrapeInput, return_direct=True)\n",
    "def scrape_pdf(url: str):\n",
    "    \"\"\"Scrape a webpage that may include links to a restaurants current menu and return the links\"\"\"\n",
    "    pdf_links = []\n",
    "    try:\n",
    "        response = requests.get(url)\n",
    "        soup = BeautifulSoup(response.text, 'html.parser')\n",
    "        links = soup.find_all('a')\n",
    "        pdf_links = [link.get('href') for link in links if link.get('href').endswith('.pdf')]\n",
    "    except:\n",
    "        print(f\"failed to scrape {filename}\")\n",
    "    return pdf_links\n",
    "\n",
    "class DowloadInput(BaseModel):\n",
    "    url: str = Field(description=\"the URL of the menu\")\n",
    "    filename: str = Field(description=\"the name of the restaurants\")\n",
    "\n",
    "@tool(\"download-pdf\", args_schema=DowloadInput, return_direct=True)\n",
    "def download_pdf(url: str, filename: str):\n",
    "    \"\"\"Download a pdf file from a given url and filename\"\"\"\n",
    "    try:\n",
    "        response = urlopen(download_url)\n",
    "        file = open(\"pdf/\"+filename+\".pdf\", 'wb')\n",
    "        file.write(response.read())\n",
    "        file.close()\n",
    "    except:\n",
    "        print(f\"failed to download {filename}\")"
   ]
  },
  {
   "cell_type": "code",
   "execution_count": 47,
   "id": "1b4ee54d-15aa-466b-85ca-eab668d1f96c",
   "metadata": {},
   "outputs": [],
   "source": [
    "tools = [search_tool, scrape_pdf, download_pdf]"
   ]
  },
  {
   "cell_type": "code",
   "execution_count": 48,
   "id": "15be6353-a2a7-4c56-aad4-7afc3a42efd1",
   "metadata": {},
   "outputs": [],
   "source": [
    "# RAG Model"
   ]
  },
  {
   "cell_type": "code",
   "execution_count": 49,
   "id": "dc4005b8-599b-4a87-8a68-5182b5d93bb0",
   "metadata": {},
   "outputs": [],
   "source": [
    "class Model:\n",
    "    # Define the model\n",
    "    def __init__(self, model, tools, system=\"\"):\n",
    "        self.system = system\n",
    "        graph = StateGraph(AgentState)\n",
    "        graph.add_node(\"llm\", self.classify)\n",
    "        graph.add_node(\"action\", self.take_action)\n",
    "        #graph.add_node(\"output-parser\", self.classify)\n",
    "        graph.add_conditional_edges(\n",
    "            \"llm\",\n",
    "            self.exists_action,\n",
    "            {True: \"action\", False: END}\n",
    "        )\n",
    "        graph.add_edge(\"action\", \"llm\")\n",
    "        graph.set_entry_point(\"llm\")\n",
    "        self.graph = graph.compile()\n",
    "        self.tools = {t.name: t for t in tools}\n",
    "        self.model = model.bind_tools(tools)\n",
    "\n",
    "    # Check if llm requires action \n",
    "    def exists_action(self, state: AgentState):\n",
    "        result = state['messages'][-1]\n",
    "        return len(result.tool_calls) > 0\n",
    "    # Run a tool ordered by the model\n",
    "    def take_action(self, state: AgentState):\n",
    "        tool_calls = state['messages'][-1].tool_calls\n",
    "        results = []\n",
    "        for t in tool_calls:\n",
    "            print(f\"Calling: {t}\")\n",
    "            result = self.tools[t['name']].invoke(t['args'])\n",
    "            results.append(ToolMessage(tool_call_id=t['id'], name=t['name'], content=str(result)))\n",
    "        print(\"Back to the model!\")\n",
    "        return {'messages': results}\n",
    "    # Perform inference on the gathered context\n",
    "    def classify(self, state: AgentState):\n",
    "        messages = state['messages']\n",
    "        if self.system:\n",
    "            messages = [SystemMessage(content=self.system)] + messages\n",
    "        message = self.model.invoke(messages)\n",
    "        return {'messages': [message]}\n",
    "\n",
    "    # def parse_output_to_string(self, state: AgentState):\n",
    "    #     message = state['messages'][-1]\n",
    "    #     json_output = JsonOutputParser(pydantic_object=Restaurants).invoke(message)\n",
    "    #     return {'json_output': json_output}"
   ]
  },
  {
   "cell_type": "code",
   "execution_count": 50,
   "id": "1a1fe975-3bbc-4814-b979-048899d6d5df",
   "metadata": {},
   "outputs": [],
   "source": [
    "prompt = \"\"\"You are tasked with finding and downloading a PDF of a restaurant's menu. \n",
    "Use the search tool to find the url of the menu, if you cannot find the pdf url directly use the scrape_pdf tool to scrape webpages for the url.\n",
    "DO NOT attempt to download blank menus. Save the file using the PDF download tool, name the PDF after the restaurant.\n",
    "Once you have downloaded the PDF there are no more tasks to be done. \n",
    "\"\"\"\n",
    "\n",
    "llm = ChatOpenAI(\n",
    "    model=\"gpt-4o\",\n",
    "    temperature=0,\n",
    "    max_tokens=None,\n",
    "    timeout=None,\n",
    ")\n",
    "\n",
    "model = Model(llm, tools, system=prompt)"
   ]
  },
  {
   "cell_type": "code",
   "execution_count": 57,
   "id": "443ad031-e7ff-410f-baf1-bf70c1d7cfc6",
   "metadata": {},
   "outputs": [
    {
     "name": "stdout",
     "output_type": "stream",
     "text": [
      "Calling: {'name': 'tavily_search_results_json', 'args': {'query': 'Mondo restaurant menu Middletown Connecticut PDF'}, 'id': 'call_VJKAxel82mdKQrjO4im0OPRW', 'type': 'tool_call'}\n",
      "Back to the model!\n",
      "Calling: {'name': 'scrape-pdf', 'args': {'url': 'https://www.mondomiddletown.com/menu'}, 'id': 'call_c1V7rO1Kh7KdR5WJRk1nvrYy', 'type': 'tool_call'}\n",
      "Calling: {'name': 'scrape-pdf', 'args': {'url': 'https://www.sirved.com/restaurant/middletown-connecticut-usa/mondo/588117/menus'}, 'id': 'call_edYRRxgchv5I5lxByahQjDOh', 'type': 'tool_call'}\n"
     ]
    },
    {
     "ename": "AttributeError",
     "evalue": "'NoneType' object has no attribute 'endswith'",
     "output_type": "error",
     "traceback": [
      "\u001b[0;31m---------------------------------------------------------------------------\u001b[0m",
      "\u001b[0;31mAttributeError\u001b[0m                            Traceback (most recent call last)",
      "Cell \u001b[0;32mIn[57], line 2\u001b[0m\n\u001b[1;32m      1\u001b[0m messages \u001b[38;5;241m=\u001b[39m [\u001b[38;5;124m\"\u001b[39m\u001b[38;5;124mMondo, Middletown Connecticut\u001b[39m\u001b[38;5;124m\"\u001b[39m]\n\u001b[0;32m----> 2\u001b[0m result \u001b[38;5;241m=\u001b[39m \u001b[43mmodel\u001b[49m\u001b[38;5;241;43m.\u001b[39;49m\u001b[43mgraph\u001b[49m\u001b[38;5;241;43m.\u001b[39;49m\u001b[43minvoke\u001b[49m\u001b[43m(\u001b[49m\u001b[43m{\u001b[49m\u001b[38;5;124;43m\"\u001b[39;49m\u001b[38;5;124;43mmessages\u001b[39;49m\u001b[38;5;124;43m\"\u001b[39;49m\u001b[43m:\u001b[49m\u001b[43m \u001b[49m\u001b[43mmessages\u001b[49m\u001b[43m}\u001b[49m\u001b[43m)\u001b[49m\n",
      "File \u001b[0;32m~/Library/Python/3.9/lib/python/site-packages/langgraph/pregel/__init__.py:1691\u001b[0m, in \u001b[0;36mPregel.invoke\u001b[0;34m(self, input, config, stream_mode, output_keys, input_keys, interrupt_before, interrupt_after, debug, **kwargs)\u001b[0m\n\u001b[1;32m   1689\u001b[0m \u001b[38;5;28;01melse\u001b[39;00m:\n\u001b[1;32m   1690\u001b[0m     chunks \u001b[38;5;241m=\u001b[39m []\n\u001b[0;32m-> 1691\u001b[0m \u001b[38;5;28;01mfor\u001b[39;00m chunk \u001b[38;5;129;01min\u001b[39;00m \u001b[38;5;28mself\u001b[39m\u001b[38;5;241m.\u001b[39mstream(\n\u001b[1;32m   1692\u001b[0m     \u001b[38;5;28minput\u001b[39m,\n\u001b[1;32m   1693\u001b[0m     config,\n\u001b[1;32m   1694\u001b[0m     stream_mode\u001b[38;5;241m=\u001b[39mstream_mode,\n\u001b[1;32m   1695\u001b[0m     output_keys\u001b[38;5;241m=\u001b[39moutput_keys,\n\u001b[1;32m   1696\u001b[0m     input_keys\u001b[38;5;241m=\u001b[39minput_keys,\n\u001b[1;32m   1697\u001b[0m     interrupt_before\u001b[38;5;241m=\u001b[39minterrupt_before,\n\u001b[1;32m   1698\u001b[0m     interrupt_after\u001b[38;5;241m=\u001b[39minterrupt_after,\n\u001b[1;32m   1699\u001b[0m     debug\u001b[38;5;241m=\u001b[39mdebug,\n\u001b[1;32m   1700\u001b[0m     \u001b[38;5;241m*\u001b[39m\u001b[38;5;241m*\u001b[39mkwargs,\n\u001b[1;32m   1701\u001b[0m ):\n\u001b[1;32m   1702\u001b[0m     \u001b[38;5;28;01mif\u001b[39;00m stream_mode \u001b[38;5;241m==\u001b[39m \u001b[38;5;124m\"\u001b[39m\u001b[38;5;124mvalues\u001b[39m\u001b[38;5;124m\"\u001b[39m:\n\u001b[1;32m   1703\u001b[0m         latest \u001b[38;5;241m=\u001b[39m chunk\n",
      "File \u001b[0;32m~/Library/Python/3.9/lib/python/site-packages/langgraph/pregel/__init__.py:1110\u001b[0m, in \u001b[0;36mPregel.stream\u001b[0;34m(self, input, config, stream_mode, output_keys, input_keys, interrupt_before, interrupt_after, debug)\u001b[0m\n\u001b[1;32m   1107\u001b[0m         \u001b[38;5;28;01mdel\u001b[39;00m fut, task\n\u001b[1;32m   1109\u001b[0m \u001b[38;5;66;03m# panic on failure or timeout\u001b[39;00m\n\u001b[0;32m-> 1110\u001b[0m \u001b[43m_panic_or_proceed\u001b[49m\u001b[43m(\u001b[49m\u001b[43mdone\u001b[49m\u001b[43m,\u001b[49m\u001b[43m \u001b[49m\u001b[43minflight\u001b[49m\u001b[43m,\u001b[49m\u001b[43m \u001b[49m\u001b[43mstep\u001b[49m\u001b[43m)\u001b[49m\n\u001b[1;32m   1111\u001b[0m \u001b[38;5;66;03m# don't keep futures around in memory longer than needed\u001b[39;00m\n\u001b[1;32m   1112\u001b[0m \u001b[38;5;28;01mdel\u001b[39;00m done, inflight, futures\n",
      "File \u001b[0;32m~/Library/Python/3.9/lib/python/site-packages/langgraph/pregel/__init__.py:1780\u001b[0m, in \u001b[0;36m_panic_or_proceed\u001b[0;34m(done, inflight, step)\u001b[0m\n\u001b[1;32m   1778\u001b[0m             inflight\u001b[38;5;241m.\u001b[39mpop()\u001b[38;5;241m.\u001b[39mcancel()\n\u001b[1;32m   1779\u001b[0m         \u001b[38;5;66;03m# raise the exception\u001b[39;00m\n\u001b[0;32m-> 1780\u001b[0m         \u001b[38;5;28;01mraise\u001b[39;00m exc\n\u001b[1;32m   1782\u001b[0m \u001b[38;5;28;01mif\u001b[39;00m inflight:\n\u001b[1;32m   1783\u001b[0m     \u001b[38;5;66;03m# if we got here means we timed out\u001b[39;00m\n\u001b[1;32m   1784\u001b[0m     \u001b[38;5;28;01mwhile\u001b[39;00m inflight:\n\u001b[1;32m   1785\u001b[0m         \u001b[38;5;66;03m# cancel all pending tasks\u001b[39;00m\n",
      "File \u001b[0;32m/Library/Developer/CommandLineTools/Library/Frameworks/Python3.framework/Versions/3.9/lib/python3.9/concurrent/futures/thread.py:52\u001b[0m, in \u001b[0;36m_WorkItem.run\u001b[0;34m(self)\u001b[0m\n\u001b[1;32m     49\u001b[0m     \u001b[38;5;28;01mreturn\u001b[39;00m\n\u001b[1;32m     51\u001b[0m \u001b[38;5;28;01mtry\u001b[39;00m:\n\u001b[0;32m---> 52\u001b[0m     result \u001b[38;5;241m=\u001b[39m \u001b[38;5;28;43mself\u001b[39;49m\u001b[38;5;241;43m.\u001b[39;49m\u001b[43mfn\u001b[49m\u001b[43m(\u001b[49m\u001b[38;5;241;43m*\u001b[39;49m\u001b[38;5;28;43mself\u001b[39;49m\u001b[38;5;241;43m.\u001b[39;49m\u001b[43margs\u001b[49m\u001b[43m,\u001b[49m\u001b[43m \u001b[49m\u001b[38;5;241;43m*\u001b[39;49m\u001b[38;5;241;43m*\u001b[39;49m\u001b[38;5;28;43mself\u001b[39;49m\u001b[38;5;241;43m.\u001b[39;49m\u001b[43mkwargs\u001b[49m\u001b[43m)\u001b[49m\n\u001b[1;32m     53\u001b[0m \u001b[38;5;28;01mexcept\u001b[39;00m \u001b[38;5;167;01mBaseException\u001b[39;00m \u001b[38;5;28;01mas\u001b[39;00m exc:\n\u001b[1;32m     54\u001b[0m     \u001b[38;5;28mself\u001b[39m\u001b[38;5;241m.\u001b[39mfuture\u001b[38;5;241m.\u001b[39mset_exception(exc)\n",
      "File \u001b[0;32m~/Library/Python/3.9/lib/python/site-packages/langgraph/pregel/retry.py:72\u001b[0m, in \u001b[0;36mrun_with_retry\u001b[0;34m(task, retry_policy)\u001b[0m\n\u001b[1;32m     70\u001b[0m task\u001b[38;5;241m.\u001b[39mwrites\u001b[38;5;241m.\u001b[39mclear()\n\u001b[1;32m     71\u001b[0m \u001b[38;5;66;03m# run the task\u001b[39;00m\n\u001b[0;32m---> 72\u001b[0m \u001b[43mtask\u001b[49m\u001b[38;5;241;43m.\u001b[39;49m\u001b[43mproc\u001b[49m\u001b[38;5;241;43m.\u001b[39;49m\u001b[43minvoke\u001b[49m\u001b[43m(\u001b[49m\u001b[43mtask\u001b[49m\u001b[38;5;241;43m.\u001b[39;49m\u001b[43minput\u001b[49m\u001b[43m,\u001b[49m\u001b[43m \u001b[49m\u001b[43mtask\u001b[49m\u001b[38;5;241;43m.\u001b[39;49m\u001b[43mconfig\u001b[49m\u001b[43m)\u001b[49m\n\u001b[1;32m     73\u001b[0m \u001b[38;5;66;03m# if successful, end\u001b[39;00m\n\u001b[1;32m     74\u001b[0m \u001b[38;5;28;01mbreak\u001b[39;00m\n",
      "File \u001b[0;32m~/Library/Python/3.9/lib/python/site-packages/langchain_core/runnables/base.py:2822\u001b[0m, in \u001b[0;36mRunnableSequence.invoke\u001b[0;34m(self, input, config, **kwargs)\u001b[0m\n\u001b[1;32m   2818\u001b[0m config \u001b[38;5;241m=\u001b[39m patch_config(\n\u001b[1;32m   2819\u001b[0m     config, callbacks\u001b[38;5;241m=\u001b[39mrun_manager\u001b[38;5;241m.\u001b[39mget_child(\u001b[38;5;124mf\u001b[39m\u001b[38;5;124m\"\u001b[39m\u001b[38;5;124mseq:step:\u001b[39m\u001b[38;5;132;01m{\u001b[39;00mi\u001b[38;5;241m+\u001b[39m\u001b[38;5;241m1\u001b[39m\u001b[38;5;132;01m}\u001b[39;00m\u001b[38;5;124m\"\u001b[39m)\n\u001b[1;32m   2820\u001b[0m )\n\u001b[1;32m   2821\u001b[0m \u001b[38;5;28;01mif\u001b[39;00m i \u001b[38;5;241m==\u001b[39m \u001b[38;5;241m0\u001b[39m:\n\u001b[0;32m-> 2822\u001b[0m     \u001b[38;5;28minput\u001b[39m \u001b[38;5;241m=\u001b[39m \u001b[43mstep\u001b[49m\u001b[38;5;241;43m.\u001b[39;49m\u001b[43minvoke\u001b[49m\u001b[43m(\u001b[49m\u001b[38;5;28;43minput\u001b[39;49m\u001b[43m,\u001b[49m\u001b[43m \u001b[49m\u001b[43mconfig\u001b[49m\u001b[43m,\u001b[49m\u001b[43m \u001b[49m\u001b[38;5;241;43m*\u001b[39;49m\u001b[38;5;241;43m*\u001b[39;49m\u001b[43mkwargs\u001b[49m\u001b[43m)\u001b[49m\n\u001b[1;32m   2823\u001b[0m \u001b[38;5;28;01melse\u001b[39;00m:\n\u001b[1;32m   2824\u001b[0m     \u001b[38;5;28minput\u001b[39m \u001b[38;5;241m=\u001b[39m step\u001b[38;5;241m.\u001b[39minvoke(\u001b[38;5;28minput\u001b[39m, config)\n",
      "File \u001b[0;32m~/Library/Python/3.9/lib/python/site-packages/langgraph/utils.py:102\u001b[0m, in \u001b[0;36mRunnableCallable.invoke\u001b[0;34m(self, input, config, **kwargs)\u001b[0m\n\u001b[1;32m    100\u001b[0m     \u001b[38;5;28;01mif\u001b[39;00m accepts_config(\u001b[38;5;28mself\u001b[39m\u001b[38;5;241m.\u001b[39mfunc):\n\u001b[1;32m    101\u001b[0m         kwargs[\u001b[38;5;124m\"\u001b[39m\u001b[38;5;124mconfig\u001b[39m\u001b[38;5;124m\"\u001b[39m] \u001b[38;5;241m=\u001b[39m config\n\u001b[0;32m--> 102\u001b[0m     ret \u001b[38;5;241m=\u001b[39m \u001b[43mcontext\u001b[49m\u001b[38;5;241;43m.\u001b[39;49m\u001b[43mrun\u001b[49m\u001b[43m(\u001b[49m\u001b[38;5;28;43mself\u001b[39;49m\u001b[38;5;241;43m.\u001b[39;49m\u001b[43mfunc\u001b[49m\u001b[43m,\u001b[49m\u001b[43m \u001b[49m\u001b[38;5;28;43minput\u001b[39;49m\u001b[43m,\u001b[49m\u001b[43m \u001b[49m\u001b[38;5;241;43m*\u001b[39;49m\u001b[38;5;241;43m*\u001b[39;49m\u001b[43mkwargs\u001b[49m\u001b[43m)\u001b[49m\n\u001b[1;32m    103\u001b[0m \u001b[38;5;28;01mif\u001b[39;00m \u001b[38;5;28misinstance\u001b[39m(ret, Runnable) \u001b[38;5;129;01mand\u001b[39;00m \u001b[38;5;28mself\u001b[39m\u001b[38;5;241m.\u001b[39mrecurse:\n\u001b[1;32m    104\u001b[0m     \u001b[38;5;28;01mreturn\u001b[39;00m ret\u001b[38;5;241m.\u001b[39minvoke(\u001b[38;5;28minput\u001b[39m, config)\n",
      "Cell \u001b[0;32mIn[49], line 30\u001b[0m, in \u001b[0;36mModel.take_action\u001b[0;34m(self, state)\u001b[0m\n\u001b[1;32m     28\u001b[0m \u001b[38;5;28;01mfor\u001b[39;00m t \u001b[38;5;129;01min\u001b[39;00m tool_calls:\n\u001b[1;32m     29\u001b[0m     \u001b[38;5;28mprint\u001b[39m(\u001b[38;5;124mf\u001b[39m\u001b[38;5;124m\"\u001b[39m\u001b[38;5;124mCalling: \u001b[39m\u001b[38;5;132;01m{\u001b[39;00mt\u001b[38;5;132;01m}\u001b[39;00m\u001b[38;5;124m\"\u001b[39m)\n\u001b[0;32m---> 30\u001b[0m     result \u001b[38;5;241m=\u001b[39m \u001b[38;5;28;43mself\u001b[39;49m\u001b[38;5;241;43m.\u001b[39;49m\u001b[43mtools\u001b[49m\u001b[43m[\u001b[49m\u001b[43mt\u001b[49m\u001b[43m[\u001b[49m\u001b[38;5;124;43m'\u001b[39;49m\u001b[38;5;124;43mname\u001b[39;49m\u001b[38;5;124;43m'\u001b[39;49m\u001b[43m]\u001b[49m\u001b[43m]\u001b[49m\u001b[38;5;241;43m.\u001b[39;49m\u001b[43minvoke\u001b[49m\u001b[43m(\u001b[49m\u001b[43mt\u001b[49m\u001b[43m[\u001b[49m\u001b[38;5;124;43m'\u001b[39;49m\u001b[38;5;124;43margs\u001b[39;49m\u001b[38;5;124;43m'\u001b[39;49m\u001b[43m]\u001b[49m\u001b[43m)\u001b[49m\n\u001b[1;32m     31\u001b[0m     results\u001b[38;5;241m.\u001b[39mappend(ToolMessage(tool_call_id\u001b[38;5;241m=\u001b[39mt[\u001b[38;5;124m'\u001b[39m\u001b[38;5;124mid\u001b[39m\u001b[38;5;124m'\u001b[39m], name\u001b[38;5;241m=\u001b[39mt[\u001b[38;5;124m'\u001b[39m\u001b[38;5;124mname\u001b[39m\u001b[38;5;124m'\u001b[39m], content\u001b[38;5;241m=\u001b[39m\u001b[38;5;28mstr\u001b[39m(result)))\n\u001b[1;32m     32\u001b[0m \u001b[38;5;28mprint\u001b[39m(\u001b[38;5;124m\"\u001b[39m\u001b[38;5;124mBack to the model!\u001b[39m\u001b[38;5;124m\"\u001b[39m)\n",
      "File \u001b[0;32m~/Library/Python/3.9/lib/python/site-packages/langchain_core/tools.py:430\u001b[0m, in \u001b[0;36mBaseTool.invoke\u001b[0;34m(self, input, config, **kwargs)\u001b[0m\n\u001b[1;32m    423\u001b[0m \u001b[38;5;28;01mdef\u001b[39;00m \u001b[38;5;21minvoke\u001b[39m(\n\u001b[1;32m    424\u001b[0m     \u001b[38;5;28mself\u001b[39m,\n\u001b[1;32m    425\u001b[0m     \u001b[38;5;28minput\u001b[39m: Union[\u001b[38;5;28mstr\u001b[39m, Dict, ToolCall],\n\u001b[1;32m    426\u001b[0m     config: Optional[RunnableConfig] \u001b[38;5;241m=\u001b[39m \u001b[38;5;28;01mNone\u001b[39;00m,\n\u001b[1;32m    427\u001b[0m     \u001b[38;5;241m*\u001b[39m\u001b[38;5;241m*\u001b[39mkwargs: Any,\n\u001b[1;32m    428\u001b[0m ) \u001b[38;5;241m-\u001b[39m\u001b[38;5;241m>\u001b[39m Any:\n\u001b[1;32m    429\u001b[0m     tool_input, kwargs \u001b[38;5;241m=\u001b[39m _prep_run_args(\u001b[38;5;28minput\u001b[39m, config, \u001b[38;5;241m*\u001b[39m\u001b[38;5;241m*\u001b[39mkwargs)\n\u001b[0;32m--> 430\u001b[0m     \u001b[38;5;28;01mreturn\u001b[39;00m \u001b[38;5;28;43mself\u001b[39;49m\u001b[38;5;241;43m.\u001b[39;49m\u001b[43mrun\u001b[49m\u001b[43m(\u001b[49m\u001b[43mtool_input\u001b[49m\u001b[43m,\u001b[49m\u001b[43m \u001b[49m\u001b[38;5;241;43m*\u001b[39;49m\u001b[38;5;241;43m*\u001b[39;49m\u001b[43mkwargs\u001b[49m\u001b[43m)\u001b[49m\n",
      "File \u001b[0;32m~/Library/Python/3.9/lib/python/site-packages/langchain_core/tools.py:582\u001b[0m, in \u001b[0;36mBaseTool.run\u001b[0;34m(self, tool_input, verbose, start_color, color, callbacks, tags, metadata, run_name, run_id, config, tool_call_id, **kwargs)\u001b[0m\n\u001b[1;32m    580\u001b[0m \u001b[38;5;28;01mif\u001b[39;00m error_to_raise:\n\u001b[1;32m    581\u001b[0m     run_manager\u001b[38;5;241m.\u001b[39mon_tool_error(error_to_raise)\n\u001b[0;32m--> 582\u001b[0m     \u001b[38;5;28;01mraise\u001b[39;00m error_to_raise\n\u001b[1;32m    583\u001b[0m output \u001b[38;5;241m=\u001b[39m _format_output(content, artifact, tool_call_id, \u001b[38;5;28mself\u001b[39m\u001b[38;5;241m.\u001b[39mname)\n\u001b[1;32m    584\u001b[0m run_manager\u001b[38;5;241m.\u001b[39mon_tool_end(output, color\u001b[38;5;241m=\u001b[39mcolor, name\u001b[38;5;241m=\u001b[39m\u001b[38;5;28mself\u001b[39m\u001b[38;5;241m.\u001b[39mname, \u001b[38;5;241m*\u001b[39m\u001b[38;5;241m*\u001b[39mkwargs)\n",
      "File \u001b[0;32m~/Library/Python/3.9/lib/python/site-packages/langchain_core/tools.py:555\u001b[0m, in \u001b[0;36mBaseTool.run\u001b[0;34m(self, tool_input, verbose, start_color, color, callbacks, tags, metadata, run_name, run_id, config, tool_call_id, **kwargs)\u001b[0m\n\u001b[1;32m    553\u001b[0m \u001b[38;5;28;01mif\u001b[39;00m config_param \u001b[38;5;241m:=\u001b[39m _get_runnable_config_param(\u001b[38;5;28mself\u001b[39m\u001b[38;5;241m.\u001b[39m_run):\n\u001b[1;32m    554\u001b[0m     tool_kwargs[config_param] \u001b[38;5;241m=\u001b[39m config\n\u001b[0;32m--> 555\u001b[0m response \u001b[38;5;241m=\u001b[39m \u001b[43mcontext\u001b[49m\u001b[38;5;241;43m.\u001b[39;49m\u001b[43mrun\u001b[49m\u001b[43m(\u001b[49m\u001b[38;5;28;43mself\u001b[39;49m\u001b[38;5;241;43m.\u001b[39;49m\u001b[43m_run\u001b[49m\u001b[43m,\u001b[49m\u001b[43m \u001b[49m\u001b[38;5;241;43m*\u001b[39;49m\u001b[43mtool_args\u001b[49m\u001b[43m,\u001b[49m\u001b[43m \u001b[49m\u001b[38;5;241;43m*\u001b[39;49m\u001b[38;5;241;43m*\u001b[39;49m\u001b[43mtool_kwargs\u001b[49m\u001b[43m)\u001b[49m\n\u001b[1;32m    556\u001b[0m \u001b[38;5;28;01mif\u001b[39;00m \u001b[38;5;28mself\u001b[39m\u001b[38;5;241m.\u001b[39mresponse_format \u001b[38;5;241m==\u001b[39m \u001b[38;5;124m\"\u001b[39m\u001b[38;5;124mcontent_and_artifact\u001b[39m\u001b[38;5;124m\"\u001b[39m:\n\u001b[1;32m    557\u001b[0m     \u001b[38;5;28;01mif\u001b[39;00m \u001b[38;5;129;01mnot\u001b[39;00m \u001b[38;5;28misinstance\u001b[39m(response, \u001b[38;5;28mtuple\u001b[39m) \u001b[38;5;129;01mor\u001b[39;00m \u001b[38;5;28mlen\u001b[39m(response) \u001b[38;5;241m!=\u001b[39m \u001b[38;5;241m2\u001b[39m:\n",
      "File \u001b[0;32m~/Library/Python/3.9/lib/python/site-packages/langchain_core/tools.py:851\u001b[0m, in \u001b[0;36mStructuredTool._run\u001b[0;34m(self, config, run_manager, *args, **kwargs)\u001b[0m\n\u001b[1;32m    849\u001b[0m     \u001b[38;5;28;01mif\u001b[39;00m config_param \u001b[38;5;241m:=\u001b[39m _get_runnable_config_param(\u001b[38;5;28mself\u001b[39m\u001b[38;5;241m.\u001b[39mfunc):\n\u001b[1;32m    850\u001b[0m         kwargs[config_param] \u001b[38;5;241m=\u001b[39m config\n\u001b[0;32m--> 851\u001b[0m     \u001b[38;5;28;01mreturn\u001b[39;00m \u001b[38;5;28;43mself\u001b[39;49m\u001b[38;5;241;43m.\u001b[39;49m\u001b[43mfunc\u001b[49m\u001b[43m(\u001b[49m\u001b[38;5;241;43m*\u001b[39;49m\u001b[43margs\u001b[49m\u001b[43m,\u001b[49m\u001b[43m \u001b[49m\u001b[38;5;241;43m*\u001b[39;49m\u001b[38;5;241;43m*\u001b[39;49m\u001b[43mkwargs\u001b[49m\u001b[43m)\u001b[49m\n\u001b[1;32m    852\u001b[0m \u001b[38;5;28;01mraise\u001b[39;00m \u001b[38;5;167;01mNotImplementedError\u001b[39;00m(\u001b[38;5;124m\"\u001b[39m\u001b[38;5;124mStructuredTool does not support sync invocation.\u001b[39m\u001b[38;5;124m\"\u001b[39m)\n",
      "Cell \u001b[0;32mIn[46], line 18\u001b[0m, in \u001b[0;36mscrape_pdf\u001b[0;34m(url)\u001b[0m\n\u001b[1;32m     16\u001b[0m soup \u001b[38;5;241m=\u001b[39m BeautifulSoup(response\u001b[38;5;241m.\u001b[39mtext, \u001b[38;5;124m'\u001b[39m\u001b[38;5;124mhtml.parser\u001b[39m\u001b[38;5;124m'\u001b[39m)\n\u001b[1;32m     17\u001b[0m links \u001b[38;5;241m=\u001b[39m soup\u001b[38;5;241m.\u001b[39mfind_all(\u001b[38;5;124m'\u001b[39m\u001b[38;5;124ma\u001b[39m\u001b[38;5;124m'\u001b[39m)\n\u001b[0;32m---> 18\u001b[0m pdf_links \u001b[38;5;241m=\u001b[39m [link\u001b[38;5;241m.\u001b[39mget(\u001b[38;5;124m'\u001b[39m\u001b[38;5;124mhref\u001b[39m\u001b[38;5;124m'\u001b[39m) \u001b[38;5;28;01mfor\u001b[39;00m link \u001b[38;5;129;01min\u001b[39;00m links \u001b[38;5;28;01mif\u001b[39;00m link\u001b[38;5;241m.\u001b[39mget(\u001b[38;5;124m'\u001b[39m\u001b[38;5;124mhref\u001b[39m\u001b[38;5;124m'\u001b[39m)\u001b[38;5;241m.\u001b[39mendswith(\u001b[38;5;124m'\u001b[39m\u001b[38;5;124m.pdf\u001b[39m\u001b[38;5;124m'\u001b[39m)]\n\u001b[1;32m     19\u001b[0m \u001b[38;5;28;01mreturn\u001b[39;00m pdf_links\n",
      "Cell \u001b[0;32mIn[46], line 18\u001b[0m, in \u001b[0;36m<listcomp>\u001b[0;34m(.0)\u001b[0m\n\u001b[1;32m     16\u001b[0m soup \u001b[38;5;241m=\u001b[39m BeautifulSoup(response\u001b[38;5;241m.\u001b[39mtext, \u001b[38;5;124m'\u001b[39m\u001b[38;5;124mhtml.parser\u001b[39m\u001b[38;5;124m'\u001b[39m)\n\u001b[1;32m     17\u001b[0m links \u001b[38;5;241m=\u001b[39m soup\u001b[38;5;241m.\u001b[39mfind_all(\u001b[38;5;124m'\u001b[39m\u001b[38;5;124ma\u001b[39m\u001b[38;5;124m'\u001b[39m)\n\u001b[0;32m---> 18\u001b[0m pdf_links \u001b[38;5;241m=\u001b[39m [link\u001b[38;5;241m.\u001b[39mget(\u001b[38;5;124m'\u001b[39m\u001b[38;5;124mhref\u001b[39m\u001b[38;5;124m'\u001b[39m) \u001b[38;5;28;01mfor\u001b[39;00m link \u001b[38;5;129;01min\u001b[39;00m links \u001b[38;5;28;01mif\u001b[39;00m \u001b[43mlink\u001b[49m\u001b[38;5;241;43m.\u001b[39;49m\u001b[43mget\u001b[49m\u001b[43m(\u001b[49m\u001b[38;5;124;43m'\u001b[39;49m\u001b[38;5;124;43mhref\u001b[39;49m\u001b[38;5;124;43m'\u001b[39;49m\u001b[43m)\u001b[49m\u001b[38;5;241;43m.\u001b[39;49m\u001b[43mendswith\u001b[49m(\u001b[38;5;124m'\u001b[39m\u001b[38;5;124m.pdf\u001b[39m\u001b[38;5;124m'\u001b[39m)]\n\u001b[1;32m     19\u001b[0m \u001b[38;5;28;01mreturn\u001b[39;00m pdf_links\n",
      "\u001b[0;31mAttributeError\u001b[0m: 'NoneType' object has no attribute 'endswith'"
     ]
    }
   ],
   "source": [
    "messages = [\"Mondo, Middletown Connecticut\"]\n",
    "result = model.graph.invoke({\"messages\": messages})"
   ]
  },
  {
   "cell_type": "code",
   "execution_count": 54,
   "id": "a3c68cee-fbb1-4530-a537-2d86f3419e36",
   "metadata": {},
   "outputs": [
    {
     "data": {
      "text/plain": [
       "{'messages': ['Mondo, Middletown Connecticut',\n",
       "  AIMessage(content='', additional_kwargs={'tool_calls': [{'id': 'call_nsE08MvqhVNQMFTrCC1qwekB', 'function': {'arguments': '{\"query\":\"Mondo restaurant menu PDF Middletown Connecticut\"}', 'name': 'tavily_search_results_json'}, 'type': 'function'}]}, response_metadata={'token_usage': {'completion_tokens': 26, 'prompt_tokens': 217, 'total_tokens': 243}, 'model_name': 'gpt-4o-2024-05-13', 'system_fingerprint': 'fp_dd932ca5d1', 'finish_reason': 'tool_calls', 'logprobs': None}, id='run-46a49c53-f18f-4a92-9695-5acbb204d85f-0', tool_calls=[{'name': 'tavily_search_results_json', 'args': {'query': 'Mondo restaurant menu PDF Middletown Connecticut'}, 'id': 'call_nsE08MvqhVNQMFTrCC1qwekB', 'type': 'tool_call'}], usage_metadata={'input_tokens': 217, 'output_tokens': 26, 'total_tokens': 243}),\n",
       "  ToolMessage(content='[{\\'url\\': \\'https://www.mondomiddletown.com/menu\\', \\'content\\': \\'Open Menu Close Menu. Home Menu Folder: Order. Back. Takeout or Delivery. Folder: Contact. Back. Contact Us ... WINE LIST BEER LIST CATERING MENU 10 Main Street, Middletown, CT 06457 • (860) 343-3300 . Photography by: ...\\'}, {\\'url\\': \\'https://www.mondomiddletown.com/\\', \\'content\\': \\'MONDO is a family owned casual restaurant located in the heart of Middletown, CT. ... While pizza is our specialty, we take pride in preparing many other menu items, all prepared fresh in house. From our salads with homemade dressings to our selection of panini and pasta, we do our best to offer something for everyone at MONDO, including a ...\\'}, {\\'url\\': \\'https://www.sirved.com/restaurant/middletown-connecticut-usa/mondo/588117/menus\\', \\'content\\': \"Menu for Mondo in Middletown, CT. Mondo in Middletown, CT, is a Italian restaurant with average rating of 4.6 stars. See what others have to say about Mondo. This week Mondo will be operating from 11:00 AM to 9:00 PM. Don\\'t wait until it\\'s too late or too busy. Call ahead and book your table on (860) 343-3300.\"}, {\\'url\\': \\'https://www.yelp.com/biz/mondo-middletown\\', \\'content\\': \"Specialties: Specializing in using only the freshest ingredients including local farms. Salads, Soups, Panini, Artisan Pizza, Beer and Wine Bar TV\\'s and family friendly service Established in 2010. MONDO is a family owned casual restaurant located at 10 Main St Middletown CT. Open since late September 2010 we specialize in New York style thin crust pizza cooked in a brick oven. While pizza is ...\"}, {\\'url\\': \\'https://www.allmenus.com/ct/middletown/743026-mondo/menu/\\', \\'content\\': \\'Restaurant menu, map for Mondo located in 06457, Middletown CT, 10 Main Street. Find menus. Connecticut; Middletown; Mondo; ... Menu for Mondo provided by Allmenus.com. ... Check with this restaurant for current pricing and menu information. A listing on Allmenus.com does not necessarily reflect our affiliation with or endorsement of the listed ...\\'}]', name='tavily_search_results_json', tool_call_id='call_nsE08MvqhVNQMFTrCC1qwekB'),\n",
       "  AIMessage(content='', additional_kwargs={'tool_calls': [{'id': 'call_DJ88fagAspmRRxwwIutFTbr2', 'function': {'arguments': '{\"download_url\":\"https://www.mondomiddletown.com/menu\",\"filename\":\"Mondo\"}', 'name': 'download-pdf'}, 'type': 'function'}]}, response_metadata={'token_usage': {'completion_tokens': 31, 'prompt_tokens': 777, 'total_tokens': 808}, 'model_name': 'gpt-4o-2024-05-13', 'system_fingerprint': 'fp_dd932ca5d1', 'finish_reason': 'tool_calls', 'logprobs': None}, id='run-132c4871-8b4c-49e2-88a1-3d4172d82537-0', tool_calls=[{'name': 'download-pdf', 'args': {'download_url': 'https://www.mondomiddletown.com/menu', 'filename': 'Mondo'}, 'id': 'call_DJ88fagAspmRRxwwIutFTbr2', 'type': 'tool_call'}], usage_metadata={'input_tokens': 777, 'output_tokens': 31, 'total_tokens': 808}),\n",
       "  ToolMessage(content='None', name='download-pdf', tool_call_id='call_DJ88fagAspmRRxwwIutFTbr2'),\n",
       "  AIMessage(content=\"It appears that the link provided does not directly lead to a PDF file. I will refine the search to find a direct PDF link for Mondo's menu.\", additional_kwargs={'tool_calls': [{'id': 'call_mo8xls2jqV2Q4Xnmm9Wo9e3o', 'function': {'arguments': '{\"query\":\"Mondo Middletown CT menu filetype:pdf\"}', 'name': 'tavily_search_results_json'}, 'type': 'function'}]}, response_metadata={'token_usage': {'completion_tokens': 61, 'prompt_tokens': 818, 'total_tokens': 879}, 'model_name': 'gpt-4o-2024-05-13', 'system_fingerprint': 'fp_dd932ca5d1', 'finish_reason': 'tool_calls', 'logprobs': None}, id='run-91df4142-4cdc-487f-a528-90bf28d687ac-0', tool_calls=[{'name': 'tavily_search_results_json', 'args': {'query': 'Mondo Middletown CT menu filetype:pdf'}, 'id': 'call_mo8xls2jqV2Q4Xnmm9Wo9e3o', 'type': 'tool_call'}], usage_metadata={'input_tokens': 818, 'output_tokens': 61, 'total_tokens': 879}),\n",
       "  ToolMessage(content='[{\\'url\\': \\'https://illianosct.com/wp-content/uploads/2018/02/Illianos-Middletown-Menu-February-2018.pdf\\', \\'content\\': \\'grape tomatoes, caramelized onions, garlic, and pine nuts sautéed in a light plum tomato white wine sauce. served over fresh tagliatelle pasta and finished with grated cheese and evoo. 15RED OR WHITE fresh chopped clams and whole littleneck clams sautéed in their natural juices with garlic, whi.\\'}, {\\'url\\': \\'https://illianosct.com/wp-content/uploads/2022/08/dine_in_menu_AUG2022.pdf\\', \\'content\\': \\'Appetizers COLD.ANTIPASTO.(family.size).....17.5 prosciutto di parma, soppressata, mortadella, sharp-aged provolone, fresh mozzarella, roasted red peppers, sicilian ...\\'}, {\\'url\\': \\'https://www.tainosmokehouse.com/MeridenMenu.pdf\\', \\'content\\': \\'A R B E C U E E G G R O L L S $ 1 5. Chicken, Peppers, Mash Potatoes, Mac & Cheese, Ranch. A N S E A R E D S C A L L O P S GF $ 2 1. Green Chili Oil & Bistro Salad. H I P P E D R I C O T TA $ 1 4. Smokey Tomato Marmalade, Everything Spice & Grilled Focaccia.\\'}, {\\'url\\': \\'https://piccolomondoli.com/wp-content/uploads/2024/05/Dinner-Menu.pdf\\', \\'content\\': \\'Chopped Rustic Salad . Romaine • Tomato • Cucumber • Red Onion • Chickpeas • Barrel-Aged Feta Currants • Lemon-Honey Vinaigrette. 15.\\'}, {\\'url\\': \\'https://slidersgrillbar.com/menus/menu.pdf\\', \\'content\\': \"MIDDLETOWN 1265 South Main St. 860-788-7337 (Available in-house dining only) Substitute mac n cheese, sweet potato fries, tater tots or onion rings. 1.50\\' PLATTERS ... (Guests 10 & under may enjoy our kids menu) 9.00 BLT Crispy bacon, lettuce, tomato, mayo, Texas toast. 13.00 Add fried egg 2.00 SLIDERS RACHEL Hot sliced corned beef, coleslaw,\"}]', name='tavily_search_results_json', tool_call_id='call_mo8xls2jqV2Q4Xnmm9Wo9e3o'),\n",
       "  AIMessage(content=\"It seems that the search results are not yielding a direct PDF link for Mondo's menu. The available links are for other restaurants. \\n\\nI will try another approach to find the PDF.\", additional_kwargs={'tool_calls': [{'id': 'call_Xe3JBmf6oAC5tbtPvSSKK8GF', 'function': {'arguments': '{\"query\":\"Mondo Middletown CT restaurant menu PDF\"}', 'name': 'tavily_search_results_json'}, 'type': 'function'}]}, response_metadata={'token_usage': {'completion_tokens': 65, 'prompt_tokens': 1405, 'total_tokens': 1470}, 'model_name': 'gpt-4o-2024-05-13', 'system_fingerprint': 'fp_dd932ca5d1', 'finish_reason': 'tool_calls', 'logprobs': None}, id='run-277afc23-f09c-469a-b18c-2a7f24489e44-0', tool_calls=[{'name': 'tavily_search_results_json', 'args': {'query': 'Mondo Middletown CT restaurant menu PDF'}, 'id': 'call_Xe3JBmf6oAC5tbtPvSSKK8GF', 'type': 'tool_call'}], usage_metadata={'input_tokens': 1405, 'output_tokens': 65, 'total_tokens': 1470}),\n",
       "  ToolMessage(content='[{\\'url\\': \\'https://www.mondomiddletown.com/menu\\', \\'content\\': \\'Open Menu Close Menu. Home Menu Folder: Order. Back. Takeout or Delivery. Folder: Contact. Back. Contact Us ... WINE LIST BEER LIST CATERING MENU 10 Main Street, Middletown, CT 06457 • (860) 343-3300 . Photography by: ...\\'}, {\\'url\\': \\'https://www.mondomiddletown.com/\\', \\'content\\': \\'MONDO is a family owned casual restaurant located in the heart of Middletown, CT. Open since late September 2010, we specialize in New York-style thin crust pizza cooked in a brick oven. While pizza is our specialty, we take pride in preparing many other menu items, all prepared fresh in house. From our salads with homemade dressings to our ...\\'}, {\\'url\\': \\'https://www.sirved.com/restaurant/middletown-connecticut-usa/mondo/588117/menus\\', \\'content\\': \"Menu for Mondo in Middletown, CT. Mondo in Middletown, CT, is a Italian restaurant with average rating of 4.6 stars. See what others have to say about Mondo. This week Mondo will be operating from 11:00 AM to 9:00 PM. Don\\'t wait until it\\'s too late or too busy. Call ahead and book your table on (860) 343-3300.\"}, {\\'url\\': \\'https://www.allmenus.com/ct/middletown/743026-mondo/menu/\\', \\'content\\': \\'Restaurant menu, map for Mondo located in 06457, Middletown CT, 10 Main Street. ... Middletown; Mondo; What is Grubhub. Through online ordering, we connect hungry people with the best local restaurants. Explore restaurants near you to find what you love. ... (860) 343-3300. We make ordering easy. Learn more. 10 Main Street, Middletown, CT 06457 ...\\'}, {\\'url\\': \\'https://www.yelp.com/biz/mondo-middletown\\', \\'content\\': \"Specialties: Specializing in using only the freshest ingredients including local farms. Salads, Soups, Panini, Artisan Pizza, Beer and Wine Bar TV\\'s and family friendly service Established in 2010. MONDO is a family owned casual restaurant located at 10 Main St Middletown CT. Open since late September 2010 we specialize in New York style thin crust pizza cooked in a brick oven. While pizza is ...\"}]', name='tavily_search_results_json', tool_call_id='call_Xe3JBmf6oAC5tbtPvSSKK8GF'),\n",
       "  AIMessage(content=\"It appears that there is no direct PDF link available for Mondo's menu from the search results. The menu is likely available only in HTML format on their website.\\n\\nWould you like me to provide a link to their menu page instead?\", response_metadata={'token_usage': {'completion_tokens': 48, 'prompt_tokens': 2023, 'total_tokens': 2071}, 'model_name': 'gpt-4o-2024-05-13', 'system_fingerprint': 'fp_dd932ca5d1', 'finish_reason': 'stop', 'logprobs': None}, id='run-11e92a08-e9d1-4518-97e1-ba66139142ef-0', usage_metadata={'input_tokens': 2023, 'output_tokens': 48, 'total_tokens': 2071})]}"
      ]
     },
     "execution_count": 54,
     "metadata": {},
     "output_type": "execute_result"
    }
   ],
   "source": [
    "result"
   ]
  },
  {
   "cell_type": "code",
   "execution_count": 17,
   "id": "cbc51368-d3b3-4d0d-a5a4-5231db9eebe0",
   "metadata": {
    "scrolled": true
   },
   "outputs": [
    {
     "ename": "ModuleNotFoundError",
     "evalue": "No module named 'pygraphviz'",
     "output_type": "error",
     "traceback": [
      "\u001b[0;31m---------------------------------------------------------------------------\u001b[0m",
      "\u001b[0;31mModuleNotFoundError\u001b[0m                       Traceback (most recent call last)",
      "Cell \u001b[0;32mIn[17], line 1\u001b[0m\n\u001b[0;32m----> 1\u001b[0m \u001b[38;5;28;01mimport\u001b[39;00m \u001b[38;5;21;01mpygraphviz\u001b[39;00m\n\u001b[1;32m      2\u001b[0m Image(model\u001b[38;5;241m.\u001b[39mgraph\u001b[38;5;241m.\u001b[39mget_graph()\u001b[38;5;241m.\u001b[39mdraw_png())\n",
      "\u001b[0;31mModuleNotFoundError\u001b[0m: No module named 'pygraphviz'"
     ]
    }
   ],
   "source": [
    "import pygraphviz\n",
    "Image(model.graph.get_graph().draw_png())"
   ]
  },
  {
   "cell_type": "code",
   "execution_count": null,
   "id": "9e3de34b-8adc-4d68-b32b-8113f8407822",
   "metadata": {},
   "outputs": [],
   "source": [
    "# Datastore"
   ]
  },
  {
   "cell_type": "code",
   "execution_count": null,
   "id": "27e61cb0-f772-4ba6-8e85-f11e894baa82",
   "metadata": {},
   "outputs": [],
   "source": [
    "# Tokenize the pdf \n",
    "import tiktoken\n",
    "enc = tiktoken.encoding_for_model(\"gpt-4o\")\n",
    "\n",
    "\n"
   ]
  },
  {
   "cell_type": "code",
   "execution_count": null,
   "id": "f5342682-ce1f-44f2-9ebe-99b43d9db9ba",
   "metadata": {},
   "outputs": [],
   "source": [
    "from pinecone import Pinecone, ServerlessSpec\n",
    "\n",
    "pc = Pinecone()\n",
    "\n",
    "pc.create_index(\n",
    "    name=\"quickstart\",\n",
    "    dimension=5120, # Lamma 2 embedding dim\n",
    "    metric=\"cosine\",\n",
    "    spec=ServerlessSpec(\n",
    "        cloud=\"aws\",\n",
    "        region=\"us-east-1\"\n",
    "    ) \n",
    ")"
   ]
  }
 ],
 "metadata": {
  "kernelspec": {
   "display_name": "RAGu",
   "language": "python",
   "name": "ragu"
  },
  "language_info": {
   "codemirror_mode": {
    "name": "ipython",
    "version": 3
   },
   "file_extension": ".py",
   "mimetype": "text/x-python",
   "name": "python",
   "nbconvert_exporter": "python",
   "pygments_lexer": "ipython3",
   "version": "3.9.6"
  }
 },
 "nbformat": 4,
 "nbformat_minor": 5
}
