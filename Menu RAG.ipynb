{
 "cells": [
  {
   "cell_type": "code",
   "execution_count": 17,
   "id": "ceefa559-cf67-4cbb-970d-84661c36c1bf",
   "metadata": {},
   "outputs": [],
   "source": [
    "from dotenv import load_dotenv\n",
    "env = load_dotenv()"
   ]
  },
  {
   "cell_type": "code",
   "execution_count": 8,
   "id": "2f7bb8f8-33b5-404b-984a-77e515536ecb",
   "metadata": {},
   "outputs": [],
   "source": [
    "from langgraph.graph import StateGraph, END\n",
    "from langchain_core.messages import AnyMessage, SystemMessage, HumanMessage, ToolMessage\n",
    "from langchain_core.output_parsers import JsonOutputParser\n",
    "from langchain_experimental.llms.ollama_functions import OllamaFunctions\n",
    "from IPython.display import Image\n",
    "import IPython\n",
    "\n",
    "from typing import TypedDict, Annotated, Dict, Any\n",
    "import operator\n",
    "import json"
   ]
  },
  {
   "cell_type": "code",
   "execution_count": 7,
   "id": "c130533c-6cd0-414d-ad28-623e4ab6735b",
   "metadata": {},
   "outputs": [],
   "source": [
    "class AgentState(TypedDict):\n",
    "    restaurant: str\n",
    "    output: str"
   ]
  },
  {
   "cell_type": "code",
   "execution_count": 31,
   "id": "52f48d37-3a4f-4ecd-9002-e4a8d16b8159",
   "metadata": {},
   "outputs": [],
   "source": [
    "from langchain.pydantic_v1 import BaseModel, Field\n",
    "from langchain.tools import tool\n",
    "from langchain_community.tools.tavily_search import TavilySearchResults\n",
    "from langchain_community.tools import DuckDuckGoSearchRun\n",
    "import requests\n",
    "\n",
    "class SearchInput(BaseModel):\n",
    "    restaurant: str = Field(description=\"the restaurant name and its location\")\n",
    "\n",
    "search_tool = DuckDuckGoSearchRun()"
   ]
  },
  {
   "cell_type": "code",
   "execution_count": 36,
   "id": "578e95d2-7db5-4362-b406-c2e33b4c0bf6",
   "metadata": {},
   "outputs": [
    {
     "data": {
      "text/plain": [
       "\"Chick-fil-A Menu and Prices. 3.9 based on 1,673 votes Chick-fil-A Coupons Chick-fil-A Nutrition Facts. Choose My State. AL AZ AR CA CO DE FL GA ID IL IN IA KS KY LA MD MA MI MN MS MO NE NH NJ NM NY NC OH OK PA SC TN TX UT VA DC WV WI WY All Less. Chick-fil-A Menu / Chick-fil-A Catering Menu. Last Update: 2024-04-16. Order Online. Breakfast ... Chick-fil-A, Inc. is the third largest quick-service restaurant company in the United States, known for its freshly-prepared food, signature hospitality and unique franchise model. More than 200,000 Team Members are employed by independent owner-operators in more than 3,000 restaurants across the United States, Canada, and Puerto Rico. Atlanta-based Chick-fil-A, Inc. is a restaurant company known for the Original Chick-fil-A ® Chicken Sandwich and signature hospitality. Represented by more than 190,000 Team Members, Operators and Staff, Chick-fil-A ® restaurants serve guests freshly prepared food at more than 2,800 restaurants in 48 states, Washington, D.C., Puerto Rico and ... Restaurant Brings Approximately 145 Full- and Part-Time Jobs to Community, Honors 100 Local Heroes with Free Chick-fil-A Entrées for a Year. SEBRING, Fla. (July 8, 2024) - A new Chick-fil-A ® restaurant will begin serving the Sebring community on Thursday, July 11, 2024. Chick-fil-A, Inc. has selected Jared Hewitt as the independent franchised local Owner-Operator of Chick-fil-A Sebring. One of Chick-fil-A's most popular menu items, the breaded nuggets are sold in five-, eight-, 12- and 30-count boxes. An order of eight costs $7.09 locally. An order of eight costs $7.09 locally.\""
      ]
     },
     "execution_count": 36,
     "metadata": {},
     "output_type": "execute_result"
    }
   ],
   "source": [
    "search_tool.invoke(\"Chick Fil A menu\")"
   ]
  },
  {
   "cell_type": "code",
   "execution_count": 27,
   "id": "1b4ee54d-15aa-466b-85ca-eab668d1f96c",
   "metadata": {},
   "outputs": [],
   "source": [
    "tools = [search_tool]"
   ]
  },
  {
   "cell_type": "code",
   "execution_count": null,
   "id": "dc4005b8-599b-4a87-8a68-5182b5d93bb0",
   "metadata": {},
   "outputs": [],
   "source": [
    "class Model:\n",
    "    # Define the model\n",
    "    def __init__(self, model, tools, system=\"\"):\n",
    "        self.system = system\n",
    "        graph = StateGraph(AgentState)\n",
    "        graph.add_node(\"llm\", self.call_openai)\n",
    "        graph.add_node(\"action\", self.take_action)\n",
    "        graph.add_node(\"output-parser\", self.parse_output_to_string)\n",
    "        graph.add_conditional_edges(\n",
    "            \"llm\",\n",
    "            self.exists_action,\n",
    "            {True: \"action\", False: \"output-parser\"}\n",
    "        )\n",
    "        graph.add_edge(\"action\", \"llm\")\n",
    "        graph.add_edge(\"output-parser\", END)\n",
    "        graph.set_entry_point(\"llm\")\n",
    "        self.graph = graph.compile()\n",
    "        self.tools = {t.name: t for t in tools}\n",
    "        self.model = model.bind_tools(tools)\n",
    "\n",
    "    # Check if llm requires action \n",
    "    def exists_action(self, state: AgentState):\n",
    "        result = state['messages'][-1]\n",
    "        return len(result.tool_calls) > 0\n",
    "    # Run a tool ordered by the model\n",
    "    def take_action(self, state: AgentState):\n",
    "        tool_calls = state['messages'][-1].tool_calls\n",
    "        results = []\n",
    "        for t in tool_calls:\n",
    "            print(f\"Calling: {t}\")\n",
    "            result = self.tools[t['name']].invoke(t['args'])\n",
    "            results.append(ToolMessage(tool_call_id=t['id'], name=t['name'], content=str(result)))\n",
    "        print(\"Back to the model!\")\n",
    "        return {'messages': results}\n",
    "    # Perform inference on the gathered context\n",
    "    def classify(self, state: AgentState):\n",
    "        messages = state['messages']\n",
    "        if self.system:\n",
    "            messages = [SystemMessage(content=self.system)] + messages\n",
    "        message = self.model.invoke(messages)\n",
    "        return {'messages': [message]}\n",
    "\n",
    "    # def parse_output_to_string(self, state: AgentState):\n",
    "    #     message = state['messages'][-1]\n",
    "    #     json_output = JsonOutputParser(pydantic_object=Restaurants).invoke(message)\n",
    "    #     return {'json_output': json_output}"
   ]
  },
  {
   "cell_type": "code",
   "execution_count": null,
   "id": "5c5afb42-f403-41d3-8a73-638ee6957c03",
   "metadata": {},
   "outputs": [],
   "source": [
    "from langchain_core.prompts import PromptTemplate\n",
    "\n",
    "prompt = PromptTemplate.from_template(\n",
    "\"\"\"You are an AI tasked with classifying compatible diet types from a menu.\n",
    "\n",
    "----------\n",
    "{ menu }\n",
    "----------\n",
    "You output MUST be structured list of one or more of the provided diet types,\n",
    "{ diet_types }\n",
    "----------\n",
    "DO NOT respond as an AI assistant, only return a list of compatible diet types. \n",
    "You may return no diet types if no fit, or one diet type if only one fits.\n",
    "\n",
    "EXAMPLE:\n",
    "[\"diet_type_1\", \"diet_type_2\", ...]\n",
    "\"\"\"\n",
    ")\n",
    "\n",
    "prompt.format(context=context)"
   ]
  },
  {
   "cell_type": "code",
   "execution_count": null,
   "id": "1a1fe975-3bbc-4814-b979-048899d6d5df",
   "metadata": {},
   "outputs": [],
   "source": [
    "llm = OllamaFunctions(\n",
    "    model=\"phi3\", \n",
    "    keep_alive=-1,\n",
    "    format=\"json\"\n",
    "    )\n",
    ")\n",
    "\n",
    "model = Model(llm, tools, system=prompt)"
   ]
  },
  {
   "cell_type": "code",
   "execution_count": null,
   "id": "cbc51368-d3b3-4d0d-a5a4-5231db9eebe0",
   "metadata": {},
   "outputs": [],
   "source": [
    "Image(model.graph.get_graph().draw_png())"
   ]
  },
  {
   "cell_type": "code",
   "execution_count": null,
   "id": "443ad031-e7ff-410f-baf1-bf70c1d7cfc6",
   "metadata": {},
   "outputs": [],
   "source": [
    "input = [HumanMessage(content=\"CRISP Rochester\")]\n",
    "result = model.graph.invoke({\"restaurant\": input})"
   ]
  }
 ],
 "metadata": {
  "kernelspec": {
   "display_name": "Ragu",
   "language": "python",
   "name": "ragu"
  },
  "language_info": {
   "codemirror_mode": {
    "name": "ipython",
    "version": 3
   },
   "file_extension": ".py",
   "mimetype": "text/x-python",
   "name": "python",
   "nbconvert_exporter": "python",
   "pygments_lexer": "ipython3",
   "version": "3.10.14"
  }
 },
 "nbformat": 4,
 "nbformat_minor": 5
}
